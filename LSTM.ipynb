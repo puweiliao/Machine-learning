{
  "nbformat": 4,
  "nbformat_minor": 0,
  "metadata": {
    "colab": {
      "name": "LSTM.ipynb",
      "provenance": [],
      "include_colab_link": true
    },
    "kernelspec": {
      "name": "python3",
      "display_name": "Python 3"
    },
    "language_info": {
      "name": "python"
    }
  },
  "cells": [
    {
      "cell_type": "markdown",
      "metadata": {
        "id": "view-in-github",
        "colab_type": "text"
      },
      "source": [
        "<a href=\"https://colab.research.google.com/github/puweiliao/Machine-learning/blob/main/LSTM.ipynb\" target=\"_parent\"><img src=\"https://colab.research.google.com/assets/colab-badge.svg\" alt=\"Open In Colab\"/></a>"
      ]
    },
    {
      "cell_type": "code",
      "source": [
        "    def plot_loss(history):\n",
        "        print(\"plotting loss\")\n",
        "        plt.plot(history.history['loss'], label='loss')\n",
        "        plt.plot(history.history['val_loss'], label='val_loss')\n",
        "        plt.xlabel('Epoch')\n",
        "        plt.ylabel('Loss')\n",
        "        plt.title('Loss/Validation Loss')\n",
        "        plt.legend(loc='upper right')\n",
        "        plt.pause(0.001)\n",
        "        plt.show()\n",
        "\n"
      ],
      "metadata": {
        "id": "XpumTEK9uowu"
      },
      "execution_count": null,
      "outputs": []
    },
    {
      "cell_type": "code",
      "source": [
        "    def plot_mse(history):\n",
        "        print(\"plotting MSE\")\n",
        "        plt.plot(history.history['MSE'], label='MSE')\n",
        "        plt.plot(history.history['val_MSE'], label='val_MSE')\n",
        "        plt.xlabel('Epoch')\n",
        "        plt.ylabel('MSE')\n",
        "        plt.title('MSE/Validation MSE')\n",
        "        plt.legend(loc='upper right')\n",
        "        plt.pause(0.001)\n",
        "        plt.show()"
      ],
      "metadata": {
        "id": "pgIJnhrguo4i"
      },
      "execution_count": null,
      "outputs": []
    },
    {
      "cell_type": "code",
      "source": [
        "import os\n",
        "import tensorflow as tf\n",
        "from tensorflow.python.keras import Sequential\n",
        "from tensorflow.python.keras.layers import Dropout, Dense, LSTM\n",
        "\n",
        "\n",
        "class LongShortTermMemory:\n",
        "    def __init__(self, project_folder):\n",
        "        self.project_folder = project_folder\n",
        "\n",
        "    def get_defined_metrics(self):\n",
        "        defined_metrics = [\n",
        "            tf.keras.metrics.MeanSquaredError(name='MSE')\n",
        "        ]\n",
        "        return defined_metrics\n",
        "\n",
        "    def get_callback(self):\n",
        "        callback = tf.keras.callbacks.EarlyStopping(monitor='val_loss', patience=3, mode='min', verbose=1)\n",
        "        return callback\n",
        "\n",
        "    def create_model(self, x_train):\n",
        "        model = Sequential()\n",
        "\n",
        "        model.add(LSTM(units=100, return_sequences=True, input_shape=(x_train.shape[1], 1)))\n",
        "\n",
        "        model.add(Dropout(0.2))\n",
        "\n",
        "        model.add(LSTM(units=50, return_sequences=True))\n",
        "\n",
        "        model.add(Dropout(0.2))\n",
        "\n",
        "        model.add(LSTM(units=50, return_sequences=True))\n",
        "        \n",
        "        model.add(Dropout(0.5))\n",
        "\n",
        "        model.add(LSTM(units=50))\n",
        "        \n",
        "        model.add(Dropout(0.5))\n",
        "        \n",
        "        model.add(Dense(units=1))\n",
        "        \n",
        "        model.summary()\n",
        "        #tf.keras.utils.plot_model(model, to_file=os.path.join(self.project_folder, 'model_lstm.png'), show_shapes=True,\n",
        "        #                          show_layer_names=True)\n",
        "        return model"
      ],
      "metadata": {
        "id": "XiA_ez-ROyVi"
      },
      "execution_count": null,
      "outputs": []
    },
    {
      "cell_type": "code",
      "source": [
        "from google.colab import drive \n",
        "\n",
        "drive.mount('/content/gdrive/') "
      ],
      "metadata": {
        "colab": {
          "base_uri": "https://localhost:8080/"
        },
        "id": "jGVRluSxPGNy",
        "outputId": "24e34ff2-f53c-47ca-9870-c2ef646945ac"
      },
      "execution_count": null,
      "outputs": [
        {
          "output_type": "stream",
          "name": "stdout",
          "text": [
            "Mounted at /content/gdrive/\n"
          ]
        }
      ]
    },
    {
      "cell_type": "code",
      "execution_count": null,
      "metadata": {
        "colab": {
          "base_uri": "https://localhost:8080/",
          "height": 1000
        },
        "id": "zDNqWvcTL0cd",
        "outputId": "5c6725b6-17b7-4d31-d899-42f6f7eb152c"
      },
      "outputs": [
        {
          "output_type": "stream",
          "name": "stdout",
          "text": [
            "[[[0.88050458]\n",
            "  [0.85085037]\n",
            "  [0.81486338]]\n",
            "\n",
            " [[0.85085037]\n",
            "  [0.81486338]\n",
            "  [0.77016309]]\n",
            "\n",
            " [[0.81486338]\n",
            "  [0.77016309]\n",
            "  [0.71222763]]\n",
            "\n",
            " ...\n",
            "\n",
            " [[0.18773745]\n",
            "  [0.18697171]\n",
            "  [0.2107875 ]]\n",
            "\n",
            " [[0.18697171]\n",
            "  [0.2107875 ]\n",
            "  [0.19833418]]\n",
            "\n",
            " [[0.2107875 ]\n",
            "  [0.19833418]\n",
            "  [0.20213063]]]\n",
            "[0.77016309 0.71222763 0.70174642 0.63971896 0.70743706 0.70597544\n",
            " 0.70549451 0.68761923 0.66665682 0.67424165 0.67561192 0.64985626\n",
            " 0.54982536 0.57882802 0.53607566 0.57949434 0.54629893 0.55286279\n",
            " 0.55850506 0.5438835  0.54945324 0.58971493 0.61601601 0.62486364\n",
            " 0.62035251 0.60927752 0.57982751 0.62283511 0.6368414  0.64417367\n",
            " 0.61238077 0.63542814 0.6349069  0.608407   0.59248502 0.59358661\n",
            " 0.59709288 0.59958892 0.58390607 0.51450066 0.58678363 0.59743411\n",
            " 0.60045138 0.65286816 0.65211317 0.66935974 0.6353556  0.66628604\n",
            " 0.67051506 0.64078562 0.63182514 0.63647868 0.57013891 0.51743196\n",
            " 0.57063597 0.60690508 0.59103684 0.6020503  0.59100459 0.60131653\n",
            " 0.59712512 0.58862946 0.52963406 0.4846436  0.5267444  0.47844649\n",
            " 0.47311588 0.5132298  0.51920524 0.50445203 0.50993041 0.5042747\n",
            " 0.51788871 0.54938875 0.5703243  0.601913   0.67248717 0.61736479\n",
            " 0.63353126 0.66304844 0.57892206 0.60995191 0.56776646 0.62427524\n",
            " 0.5578421  0.55953142 0.60283726 0.59982536 0.56690669 0.50498133\n",
            " 0.519439   0.51902792 0.5217174  0.50881002 0.5131492  0.49932293\n",
            " 0.47819125 0.39735888 0.37059835 0.39192885 0.39215723 0.35364464\n",
            " 0.3254843  0.32930492 0.27653416 0.31291007 0.35386765 0.33670706\n",
            " 0.32362503 0.30348209 0.29716543 0.24037991 0.20385018 0.17931433\n",
            " 0.20323968 0.19103952 0.23525887 0.27563073 0.26835487 0.28071146\n",
            " 0.35441576 0.36964185 0.29606384 0.26131008 0.26184207 0.29915634\n",
            " 0.32610226 0.32791359 0.34492061 0.34949085 0.35926006 0.33591445\n",
            " 0.32537414 0.3180338  0.25352642 0.23193262 0.22163949 0.22931567\n",
            " 0.27356189 0.29243129 0.28956178 0.28902174 0.25088866 0.24607593\n",
            " 0.26641769 0.20655579 0.18986539 0.23047368 0.21944974 0.26197104\n",
            " 0.26071899 0.25812354 0.23318735 0.20528494 0.19385798 0.1618152\n",
            " 0.1619108  0.15604933 0.17491066 0.20302802 0.24701094 0.27077837\n",
            " 0.29439802 0.30493296 0.3058223  0.33739219 0.31099976 0.32732744\n",
            " 0.25664177 0.27485961 0.28276149 0.25482415 0.22410865 0.22541981\n",
            " 0.31647546 0.29383648 0.31274886 0.30737258 0.30073081 0.29779682\n",
            " 0.27562267 0.28856229 0.27414224 0.29062844 0.27622988 0.298799\n",
            " 0.32162605 0.35734974 0.36312099 0.38906741 0.42518069 0.4346221\n",
            " 0.47482737 0.4674736  0.44976222 0.46907762 0.47784465 0.4846127\n",
            " 0.49349526 0.49994895 0.51349311 0.54417367 0.57881996 0.56118112\n",
            " 0.551557   0.58151213 0.59351265 0.56704103 0.58823719 0.62499798\n",
            " 0.61246406 0.64323329 0.57057148 0.5570112  0.49276176 0.49564201\n",
            " 0.5002445  0.52038206 0.51884521 0.50831027 0.51179774 0.50143206\n",
            " 0.49895215 0.50708509 0.49037857 0.47654961 0.4552003  0.44848061\n",
            " 0.40674387 0.41490905 0.40638921 0.39548886 0.39249039 0.38683199\n",
            " 0.39203364 0.40602918 0.4133937  0.42284317 0.43134689 0.42788629\n",
            " 0.40479594 0.43603536 0.41028776 0.4098928  0.37872861 0.35959859\n",
            " 0.34501196 0.31508907 0.30110427 0.32573954 0.31983127 0.28358634\n",
            " 0.31621752 0.30730272 0.31572315 0.29906768 0.30807921 0.30188613\n",
            " 0.32851232 0.3670061  0.37593433 0.44779011 0.43350977 0.45327387\n",
            " 0.48663048 0.45897794 0.47847873 0.47654424 0.4908407  0.46551761\n",
            " 0.47021951 0.48895188 0.49974475 0.50146431 0.51067734 0.50944141\n",
            " 0.45131385 0.52921895 0.54737365 0.57919342 0.55905586 0.58413982\n",
            " 0.59103415 0.6233053  0.5763884  0.56232032 0.49293573 0.53635509\n",
            " 0.5563207  0.56041001 0.59014213 0.58790134 0.58796851 0.5704855\n",
            " 0.59679465 0.61570166 0.59031946 0.57249187 0.58845213 0.58230205\n",
            " 0.6272737  0.59660926 0.58372337 0.55437277 0.56536178 0.54320911\n",
            " 0.53396652 0.49752546 0.522064   0.52099734 0.53371396 0.52102689\n",
            " 0.52414627 0.56781214 0.62190817 0.59303582 0.60442247 0.55169403\n",
            " 0.53299121 0.54267713 0.52639512 0.55351568 0.51989844 0.50299578\n",
            " 0.50275397 0.55066767 0.57219431 0.54426503 0.53553561 0.52291034\n",
            " 0.51598646 0.49556141 0.49056933 0.51166608 0.50751498 0.47999409\n",
            " 0.47736909 0.47993229 0.49915634 0.50756065 0.53126898 0.50892824\n",
            " 0.49673554 0.5386523  0.50583573 0.49673285 0.50329939 0.5150219\n",
            " 0.53501169 0.52940971 0.54398829 0.53019157 0.47029273 0.55152745\n",
            " 0.5338483  0.4821892  0.52238104 0.51845563 0.51029044 0.49355974\n",
            " 0.48677826 0.4700395  0.47601225 0.45959053 0.45605739 0.46218867\n",
            " 0.47721862 0.47249523 0.48853005 0.52242134 0.51594616 0.47969048\n",
            " 0.4850802  0.48511244 0.50390661 0.51877804 0.53097611 0.57492947\n",
            " 0.59829926 0.63602192 0.67756254 0.67246836 0.72115586 0.69824015\n",
            " 0.73228727 0.69974207 0.70949784 0.69651522 0.69045649 0.69958086\n",
            " 0.65768559 0.66381955 0.67344367 0.70110696 0.70503775 0.70347403\n",
            " 0.70557511 0.72233805 0.73578549 0.74637685 0.78154169 0.90184046\n",
            " 0.93060802 0.91543566 0.81501652 0.81448454 0.82062925 0.8712405\n",
            " 0.8871759  0.92720385 0.9059029  0.90709315 0.89796072 0.92669067\n",
            " 0.9362906  0.90542196 0.88300062 0.87814826 0.94145463 0.92236492\n",
            " 0.92859292 0.93009484 0.94865526 0.95054139 0.95347538 0.9709342\n",
            " 1.         0.96638276 0.91002982 0.8482791  0.88291733 0.88965851\n",
            " 0.86500175 0.84447728 0.78944894 0.7924689  0.78665198 0.79286117\n",
            " 0.7824955  0.78023859 0.81271931 0.80918348 0.8284962  0.82234074\n",
            " 0.80088933 0.82801257 0.84314194 0.86498831 0.88724845 0.87777211\n",
            " 0.85142266 0.81292619 0.81008356 0.81237809 0.73131196 0.79433085\n",
            " 0.79567157 0.6942039  0.76148741 0.72713668 0.72838067 0.73396921\n",
            " 0.7063301  0.67799242 0.66487547 0.66341385 0.67892474 0.67402939\n",
            " 0.61492316 0.68362664 0.68111741 0.682251   0.70392004 0.68107687\n",
            " 0.69101803 0.65479728 0.64439668 0.62189473 0.60195868 0.60843655\n",
            " 0.51730165 0.62141379 0.63754803 0.66885193 0.63771998 0.57203176\n",
            " 0.7163438  0.67324485 0.68127301 0.70520164 0.71996024 0.70527956\n",
            " 0.7056987  0.73968672 0.78358634 0.79187243 0.79545662 0.78838228\n",
            " 0.77037803 0.76401569 0.75845402 0.77244956 0.77363712 0.75881136\n",
            " 0.7326285  0.69992477 0.69814879 0.65227169 0.62116661 0.53339692\n",
            " 0.52300438 0.51243988 0.46977082 0.48910234 0.49877482 0.54135253\n",
            " 0.49001048 0.47601225 0.43395846 0.41833741 0.42212848 0.41702894\n",
            " 0.4066552  0.4492168  0.45241946 0.45482684 0.42573269 0.43930788\n",
            " 0.44147613 0.43496601 0.43513797 0.43508154 0.42663156 0.44711572\n",
            " 0.44833821 0.44526183 0.4463473  0.453736   0.46327145 0.49092936\n",
            " 0.51458395 0.52069911 0.50915124 0.51429109 0.51352804 0.45288706\n",
            " 0.54055993 0.56715656 0.49628751 0.55540718 0.56065719 0.55335178\n",
            " 0.49508853 0.59135657 0.595196   0.59740455 0.61100782 0.62791316\n",
            " 0.6096483  0.61501115 0.5951154  0.56719686 0.55651952 0.54596846\n",
            " 0.52306618 0.51621484 0.50811145 0.515347   0.51123082 0.51341788\n",
            " 0.51520997 0.53690857 0.55409603 0.55061662 0.55461727 0.54740052\n",
            " 0.55173164 0.55748139 0.59006018 0.58030307 0.56743867 0.5583143\n",
            " 0.55930573 0.56075929 0.50874419 0.57458019 0.56957468 0.55191703\n",
            " 0.56930869 0.61401435 0.63454687 0.65388914 0.63411161 0.62691636\n",
            " 0.62535533 0.61686504 0.61120933 0.63181977 0.60963016 0.5990576\n",
            " 0.59072853 0.59822134 0.59417099 0.59850009 0.58984188 0.59090317\n",
            " 0.57571603 0.56117373 0.55692523 0.5567573  0.54883124 0.53904793\n",
            " 0.47721594 0.53710739 0.5531234  0.55176926 0.52355249 0.52355249\n",
            " 0.54110669 0.43396384 0.50608023 0.49793385 0.53302614 0.53591445\n",
            " 0.54074263 0.54040947 0.53078804 0.43915272 0.53030173 0.55161074\n",
            " 0.47351017 0.55071066 0.53878604 0.46413996 0.53770117 0.54076413\n",
            " 0.47937075 0.55691717 0.56867084 0.57784196 0.5755555  0.57055536\n",
            " 0.58048577 0.54952578 0.54238695 0.54835165 0.54424622 0.54395336\n",
            " 0.55299981 0.54477504 0.55067304 0.57420404 0.55820683 0.56534566\n",
            " 0.55827131 0.55848357 0.56165668 0.53465434 0.53262581 0.48071146\n",
            " 0.38215965 0.29517988 0.2144308  0.28480346 0.19664419 0.20878584\n",
            " 0.13292607 0.14205648 0.12653215 0.14803461 0.17319111 0.1427631\n",
            " 0.14310433 0.10561541 0.06498294 0.06270185 0.07915043 0.08086461\n",
            " 0.07702518 0.06200059 0.06570031 0.07408582 0.07269137 0.0879309\n",
            " 0.08599909 0.01743733 0.         0.02084151 0.03445015 0.04895349\n",
            " 0.06283081 0.05869045 0.08808673 0.12090599 0.12548967 0.09117118\n",
            " 0.08678632 0.11482307 0.12382654 0.09013944 0.06902389 0.05842715\n",
            " 0.06698192 0.06716462 0.07779091 0.08461001 0.08415326 0.1106048\n",
            " 0.10973428 0.12076359 0.12635482 0.12734625 0.11476665 0.12899326\n",
            " 0.13113732 0.14037723 0.17649588 0.18773745 0.18697171 0.2107875\n",
            " 0.19833418 0.20213063 0.19015019]\n",
            "Model: \"sequential\"\n",
            "_________________________________________________________________\n",
            "Layer (type)                 Output Shape              Param #   \n",
            "=================================================================\n",
            "lstm (LSTM)                  (None, 3, 100)            40800     \n",
            "_________________________________________________________________\n",
            "dropout (Dropout)            (None, 3, 100)            0         \n",
            "_________________________________________________________________\n",
            "lstm_1 (LSTM)                (None, 3, 50)             30200     \n",
            "_________________________________________________________________\n",
            "dropout_1 (Dropout)          (None, 3, 50)             0         \n",
            "_________________________________________________________________\n",
            "lstm_2 (LSTM)                (None, 3, 50)             20200     \n",
            "_________________________________________________________________\n",
            "dropout_2 (Dropout)          (None, 3, 50)             0         \n",
            "_________________________________________________________________\n",
            "lstm_3 (LSTM)                (None, 50)                20200     \n",
            "_________________________________________________________________\n",
            "dropout_3 (Dropout)          (None, 50)                0         \n",
            "_________________________________________________________________\n",
            "dense (Dense)                (None, 1)                 51        \n",
            "=================================================================\n",
            "Total params: 111,451\n",
            "Trainable params: 111,451\n",
            "Non-trainable params: 0\n",
            "_________________________________________________________________\n",
            "Epoch 1/100\n",
            "23/23 [==============================] - 14s 69ms/step - loss: 0.1726 - MSE: 0.2386 - val_loss: 0.0275 - val_MSE: 0.1459\n",
            "Epoch 2/100\n",
            "23/23 [==============================] - 1s 24ms/step - loss: 0.0366 - MSE: 0.1060 - val_loss: 0.0352 - val_MSE: 0.0863\n",
            "Epoch 3/100\n",
            "23/23 [==============================] - 1s 26ms/step - loss: 0.0251 - MSE: 0.0742 - val_loss: 0.0152 - val_MSE: 0.0647\n",
            "Epoch 4/100\n",
            "23/23 [==============================] - 1s 25ms/step - loss: 0.0164 - MSE: 0.0575 - val_loss: 0.0064 - val_MSE: 0.0517\n",
            "Epoch 5/100\n",
            "23/23 [==============================] - 1s 24ms/step - loss: 0.0126 - MSE: 0.0470 - val_loss: 0.0061 - val_MSE: 0.0432\n",
            "Epoch 6/100\n",
            "23/23 [==============================] - 1s 25ms/step - loss: 0.0115 - MSE: 0.0402 - val_loss: 0.0062 - val_MSE: 0.0376\n",
            "Epoch 7/100\n",
            "23/23 [==============================] - 1s 24ms/step - loss: 0.0119 - MSE: 0.0354 - val_loss: 0.0105 - val_MSE: 0.0337\n",
            "Epoch 8/100\n",
            "23/23 [==============================] - 1s 24ms/step - loss: 0.0117 - MSE: 0.0322 - val_loss: 0.0059 - val_MSE: 0.0307\n",
            "Epoch 9/100\n",
            "23/23 [==============================] - 1s 26ms/step - loss: 0.0104 - MSE: 0.0295 - val_loss: 0.0055 - val_MSE: 0.0283\n",
            "Epoch 10/100\n",
            "23/23 [==============================] - 1s 23ms/step - loss: 0.0096 - MSE: 0.0272 - val_loss: 0.0061 - val_MSE: 0.0263\n",
            "Epoch 11/100\n",
            "23/23 [==============================] - 1s 24ms/step - loss: 0.0089 - MSE: 0.0254 - val_loss: 0.0060 - val_MSE: 0.0246\n",
            "Epoch 12/100\n",
            "23/23 [==============================] - 1s 25ms/step - loss: 0.0094 - MSE: 0.0239 - val_loss: 0.0055 - val_MSE: 0.0232\n",
            "Epoch 12: early stopping\n",
            "saving weights\n",
            "plotting loss\n"
          ]
        },
        {
          "output_type": "display_data",
          "data": {
            "text/plain": [
              "<Figure size 432x288 with 1 Axes>"
            ],
            "image/png": "[encoded data removed]"
          },
          "metadata": {
            "needs_background": "light"
          }
        },
        {
          "output_type": "stream",
          "name": "stdout",
          "text": [
            "plotting MSE\n"
          ]
        },
        {
          "output_type": "display_data",
          "data": {
            "text/plain": [
              "<Figure size 432x288 with 1 Axes>"
            ],
            "image/png": "[encoded data removed]"
          },
          "metadata": {
            "needs_background": "light"
          }
        }
      ],
      "source": [
        "import pandas as pd\n",
        "import secrets\n",
        "from datetime import datetime\n",
        "from sklearn.preprocessing import MinMaxScaler\n",
        "import numpy as np\n",
        "import matplotlib.pyplot as plt\n",
        "import numpy as np\n",
        "\n",
        "TIME_STEPS = 3\n",
        "\n",
        "pd.options.mode.chained_assignment = None\n",
        "\n",
        "fields = ['timestamp', 'Asset_ID', 'Close']\n",
        "train_df = pd.read_csv(\"/content/gdrive/MyDrive/train.csv\", low_memory=False, \n",
        "                       dtype={'Asset_ID': 'int8', 'Count': 'int32', 'row_id': 'int32', 'Count': 'int32', \n",
        "                              'Open': 'float64', 'High': 'float64', 'Low': 'float64', 'Close': 'float64', \n",
        "                              'Volume': 'float64', 'VWAP': 'float64'\n",
        "                             }\n",
        "                      , nrows=8000\n",
        "                      , usecols=fields)\n",
        "\n",
        "train_df.dropna(axis = 0, inplace = True)\n",
        "\n",
        "\n",
        "# For Asset BTC\n",
        "train_btc = train_df[train_df['Asset_ID'] == 1]\n",
        "del train_btc['Asset_ID']\n",
        "\n",
        "# Split the data set\n",
        "training_data = train_btc[:int(train_btc.shape[0]*0.7)].copy()\n",
        "test_data = train_btc[int(train_btc.shape[0]*0.7):].copy()\n",
        "\n",
        "training_data = training_data.set_index('timestamp')\n",
        "test_data = test_data.set_index('timestamp')\n",
        "\n",
        "min_max = MinMaxScaler(feature_range=(0, 1))\n",
        "train_scaled = min_max.fit_transform(training_data)\n",
        "\n",
        "\n",
        "# Training Data Transformation\n",
        "x_train = []\n",
        "y_train = []\n",
        "for i in range(TIME_STEPS, train_scaled.shape[0]):\n",
        "    x_train.append(train_scaled[i - TIME_STEPS:i])\n",
        "    y_train.append(train_scaled[i, 0])\n",
        "\n",
        "x_train, y_train = np.array(x_train), np.array(y_train)\n",
        "x_train = np.reshape(x_train, (x_train.shape[0], x_train.shape[1], 1))\n",
        "\n",
        "total_data = pd.concat((training_data, test_data), axis=0)\n",
        "inputs = total_data[len(total_data) - len(test_data) - TIME_STEPS:]\n",
        "test_scaled = min_max.fit_transform(inputs)\n",
        "\n",
        "# Testing Data Transformation\n",
        "x_test = []\n",
        "y_test = []\n",
        "for i in range(TIME_STEPS, test_scaled.shape[0]):\n",
        "    x_test.append(test_scaled[i - TIME_STEPS:i])\n",
        "    y_test.append(test_scaled[i, 0])\n",
        "\n",
        "x_test, y_test = np.array(x_test), np.array(y_test)\n",
        "x_test = np.reshape(x_test, (x_test.shape[0], x_test.shape[1], 1))\n",
        "\n",
        "print(x_train)\n",
        "print(y_train)\n",
        "\n",
        "STOCK_TICKER = 'BTC'\n",
        "TODAY_RUN = datetime.today().strftime(\"%Y%m%d\")\n",
        "TOKEN = STOCK_TICKER + '_' + TODAY_RUN + '_' + secrets.token_hex(16)\n",
        "PROJECT_FOLDER = os.path.join(os.getcwd(), TOKEN)\n",
        "\n",
        "if not os.path.exists(PROJECT_FOLDER):\n",
        "    os.makedirs(PROJECT_FOLDER)\n",
        "        \n",
        "\n",
        "# Train the model\n",
        "EPOCHS = 100\n",
        "BATCH_SIZE = 32\n",
        "lstm = LongShortTermMemory(PROJECT_FOLDER)\n",
        "model = lstm.create_model(x_train)\n",
        "model.compile(optimizer='adam', loss='mean_squared_error', metrics=lstm.get_defined_metrics())\n",
        "history = model.fit(x_train, y_train, epochs=EPOCHS, batch_size=BATCH_SIZE, validation_data=(x_test, y_test),\n",
        "                    callbacks=[lstm.get_callback()])\n",
        "print(\"saving weights\")\n",
        "model.save(os.path.join(PROJECT_FOLDER, 'model_weights.h5'))\n",
        "plot_loss(history)\n",
        "plot_mse(history)"
      ]
    },
    {
      "cell_type": "code",
      "source": [
        "price_predict=model.predict(x_test)"
      ],
      "metadata": {
        "id": "jEm_9dGuolcV"
      },
      "execution_count": null,
      "outputs": []
    },
    {
      "cell_type": "code",
      "source": [
        "plt.scatter(price_predict, y_test, c='r')\n",
        "def f(x):\n",
        "  return x\n",
        "\n",
        "fx_name = r'$f(x)={x}$'\n",
        "\n",
        "\n",
        "x=np.linspace(0,1)\n",
        "\n",
        "y=f(x)\n",
        "\n",
        "plt.plot(x, y, label=fx_name)\n",
        "\n",
        "plt.legend(loc='upper left')\n",
        "\n",
        "\n",
        "plt.show()\n",
        "\n"
      ],
      "metadata": {
        "id": "71sAA9c0oU-8",
        "colab": {
          "base_uri": "https://localhost:8080/",
          "height": 265
        },
        "outputId": "3068a48d-24c7-4b42-839e-900838d247cd"
      },
      "execution_count": null,
      "outputs": [
        {
          "output_type": "display_data",
          "data": {
            "text/plain": [
              "<Figure size 432x288 with 1 Axes>"
            ],
            "image/png": "[encoded data removed]"
          },
          "metadata": {
            "needs_background": "light"
          }
        }
      ]
    },
    {
      "cell_type": "code",
      "source": [
        ""
      ],
      "metadata": {
        "id": "2ZzGq-lUtYa0"
      },
      "execution_count": null,
      "outputs": []
    }
  ]
}