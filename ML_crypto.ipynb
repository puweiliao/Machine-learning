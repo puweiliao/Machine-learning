{
  "nbformat": 4,
  "nbformat_minor": 0,
  "metadata": {
    "colab": {
      "name": "ML crypto.ipynb",
      "provenance": [],
      "collapsed_sections": []
    },
    "kernelspec": {
      "name": "python3",
      "display_name": "Python 3"
    },
    "language_info": {
      "name": "python"
    }
  },
  "cells": [
    {
      "cell_type": "code",
      "execution_count": null,
      "metadata": {
        "colab": {
          "base_uri": "https://localhost:8080/"
        },
        "id": "Qmxt9XKMT-Q0",
        "outputId": "e62df477-9db8-4aa3-8eb3-bb503ce5395d"
      },
      "outputs": [
        {
          "output_type": "stream",
          "name": "stdout",
          "text": [
            "Mounted at /content/gdrive/\n"
          ]
        }
      ],
      "source": [
        "from google.colab import drive \n",
        "\n",
        "drive.mount('/content/gdrive/') "
      ]
    },
    {
      "cell_type": "code",
      "source": [
        "# Import packages\n",
        "\n",
        "import os\n",
        "import pandas as pd\n",
        "import numpy as np\n",
        "import matplotlib.pyplot as plt\n",
        "import seaborn as sns\n",
        "from sklearn.preprocessing import MinMaxScaler\n",
        "from sklearn.preprocessing import OneHotEncoder\n",
        "from sklearn.ensemble import RandomForestRegressor\n",
        "from sklearn.metrics import mean_squared_error\n",
        "from xgboost import XGBRegressor"
      ],
      "metadata": {
        "id": "zEaN7AI6iLWl"
      },
      "execution_count": null,
      "outputs": []
    },
    {
      "cell_type": "code",
      "source": [
        "import numpy as np # linear algebra\n",
        "import pandas as pd # data processing, CSV file I/O (e.g. pd.read_csv)\n",
        "\n",
        "# Input data files are available in the read-only \"../input/\" directory\n",
        "# For example, running this (by clicking run or pressing Shift+Enter) will list all files under the input directory\n",
        "\n",
        "import os\n",
        "for dirname, _, filenames in os.walk('/kaggle/input'):\n",
        "    for filename in filenames:\n",
        "        print(os.path.join(dirname, filename))"
      ],
      "metadata": {
        "id": "DvcQs07uUvBV"
      },
      "execution_count": null,
      "outputs": []
    },
    {
      "cell_type": "code",
      "source": [
        "path=\"/content/gdrive/MyDrive/datacamp/train.csv\"\n",
        "train_df = pd.read_csv(path)\n",
        "train_df"
      ],
      "metadata": {
        "colab": {
          "base_uri": "https://localhost:8080/",
          "height": 419
        },
        "id": "79vv4WtMUaat",
        "outputId": "98fdb1b3-8940-475f-c577-d0d0684304c0"
      },
      "execution_count": null,
      "outputs": [
        {
          "output_type": "execute_result",
          "data": {
            "text/plain": [
              "           timestamp  Asset_ID  Count          Open          High  \\\n",
              "0         1514764860         2   40.0   2376.580000   2399.500000   \n",
              "1         1514764860         0    5.0      8.530000      8.530000   \n",
              "2         1514764860         1  229.0  13835.194000  14013.800000   \n",
              "3         1514764860         5   32.0      7.659600      7.659600   \n",
              "4         1514764860         7    5.0     25.920000     25.920000   \n",
              "...              ...       ...    ...           ...           ...   \n",
              "24236801  1632182400         9  775.0    157.181571    157.250000   \n",
              "24236802  1632182400        10   34.0   2437.065067   2438.000000   \n",
              "24236803  1632182400        13  380.0      0.091390      0.091527   \n",
              "24236804  1632182400        12  177.0      0.282168      0.282438   \n",
              "24236805  1632182400        11   48.0    232.695000    232.800000   \n",
              "\n",
              "                   Low         Close        Volume          VWAP    Target  \n",
              "0          2357.140000   2374.590000  1.923301e+01   2373.116392 -0.004218  \n",
              "1             8.530000      8.530000  7.838000e+01      8.530000 -0.014399  \n",
              "2         13666.110000  13850.176000  3.155006e+01  13827.062093 -0.014643  \n",
              "3             7.656700      7.657600  6.626713e+03      7.657713 -0.013922  \n",
              "4            25.874000     25.877000  1.210873e+02     25.891363 -0.008264  \n",
              "...                ...           ...           ...           ...       ...  \n",
              "24236801    156.700000    156.943857  4.663725e+03    156.994319       NaN  \n",
              "24236802   2430.226900   2432.907467  3.975460e+00   2434.818747       NaN  \n",
              "24236803      0.091260      0.091349  2.193732e+06      0.091388       NaN  \n",
              "24236804      0.281842      0.282051  1.828508e+05      0.282134       NaN  \n",
              "24236805    232.240000    232.275000  1.035123e+02    232.569697       NaN  \n",
              "\n",
              "[24236806 rows x 10 columns]"
            ],
            "text/html": [
              "\n",
              "  <div id=\"df-ee052ae7-fa85-4b4d-a584-63b35f2e7f15\">\n",
              "    <div class=\"colab-df-container\">\n",
              "      <div>\n",
              "<style scoped>\n",
              "    .dataframe tbody tr th:only-of-type {\n",
              "        vertical-align: middle;\n",
              "    }\n",
              "\n",
              "    .dataframe tbody tr th {\n",
              "        vertical-align: top;\n",
              "    }\n",
              "\n",
              "    .dataframe thead th {\n",
              "        text-align: right;\n",
              "    }\n",
              "</style>\n",
              "<table border=\"1\" class=\"dataframe\">\n",
              "  <thead>\n",
              "    <tr style=\"text-align: right;\">\n",
              "      <th></th>\n",
              "      <th>timestamp</th>\n",
              "      <th>Asset_ID</th>\n",
              "      <th>Count</th>\n",
              "      <th>Open</th>\n",
              "      <th>High</th>\n",
              "      <th>Low</th>\n",
              "      <th>Close</th>\n",
              "      <th>Volume</th>\n",
              "      <th>VWAP</th>\n",
              "      <th>Target</th>\n",
              "    </tr>\n",
              "  </thead>\n",
              "  <tbody>\n",
              "    <tr>\n",
              "      <th>0</th>\n",
              "      <td>1514764860</td>\n",
              "      <td>2</td>\n",
              "      <td>40.0</td>\n",
              "      <td>2376.580000</td>\n",
              "      <td>2399.500000</td>\n",
              "      <td>2357.140000</td>\n",
              "      <td>2374.590000</td>\n",
              "      <td>1.923301e+01</td>\n",
              "      <td>2373.116392</td>\n",
              "      <td>-0.004218</td>\n",
              "    </tr>\n",
              "    <tr>\n",
              "      <th>1</th>\n",
              "      <td>1514764860</td>\n",
              "      <td>0</td>\n",
              "      <td>5.0</td>\n",
              "      <td>8.530000</td>\n",
              "      <td>8.530000</td>\n",
              "      <td>8.530000</td>\n",
              "      <td>8.530000</td>\n",
              "      <td>7.838000e+01</td>\n",
              "      <td>8.530000</td>\n",
              "      <td>-0.014399</td>\n",
              "    </tr>\n",
              "    <tr>\n",
              "      <th>2</th>\n",
              "      <td>1514764860</td>\n",
              "      <td>1</td>\n",
              "      <td>229.0</td>\n",
              "      <td>13835.194000</td>\n",
              "      <td>14013.800000</td>\n",
              "      <td>13666.110000</td>\n",
              "      <td>13850.176000</td>\n",
              "      <td>3.155006e+01</td>\n",
              "      <td>13827.062093</td>\n",
              "      <td>-0.014643</td>\n",
              "    </tr>\n",
              "    <tr>\n",
              "      <th>3</th>\n",
              "      <td>1514764860</td>\n",
              "      <td>5</td>\n",
              "      <td>32.0</td>\n",
              "      <td>7.659600</td>\n",
              "      <td>7.659600</td>\n",
              "      <td>7.656700</td>\n",
              "      <td>7.657600</td>\n",
              "      <td>6.626713e+03</td>\n",
              "      <td>7.657713</td>\n",
              "      <td>-0.013922</td>\n",
              "    </tr>\n",
              "    <tr>\n",
              "      <th>4</th>\n",
              "      <td>1514764860</td>\n",
              "      <td>7</td>\n",
              "      <td>5.0</td>\n",
              "      <td>25.920000</td>\n",
              "      <td>25.920000</td>\n",
              "      <td>25.874000</td>\n",
              "      <td>25.877000</td>\n",
              "      <td>1.210873e+02</td>\n",
              "      <td>25.891363</td>\n",
              "      <td>-0.008264</td>\n",
              "    </tr>\n",
              "    <tr>\n",
              "      <th>...</th>\n",
              "      <td>...</td>\n",
              "      <td>...</td>\n",
              "      <td>...</td>\n",
              "      <td>...</td>\n",
              "      <td>...</td>\n",
              "      <td>...</td>\n",
              "      <td>...</td>\n",
              "      <td>...</td>\n",
              "      <td>...</td>\n",
              "      <td>...</td>\n",
              "    </tr>\n",
              "    <tr>\n",
              "      <th>24236801</th>\n",
              "      <td>1632182400</td>\n",
              "      <td>9</td>\n",
              "      <td>775.0</td>\n",
              "      <td>157.181571</td>\n",
              "      <td>157.250000</td>\n",
              "      <td>156.700000</td>\n",
              "      <td>156.943857</td>\n",
              "      <td>4.663725e+03</td>\n",
              "      <td>156.994319</td>\n",
              "      <td>NaN</td>\n",
              "    </tr>\n",
              "    <tr>\n",
              "      <th>24236802</th>\n",
              "      <td>1632182400</td>\n",
              "      <td>10</td>\n",
              "      <td>34.0</td>\n",
              "      <td>2437.065067</td>\n",
              "      <td>2438.000000</td>\n",
              "      <td>2430.226900</td>\n",
              "      <td>2432.907467</td>\n",
              "      <td>3.975460e+00</td>\n",
              "      <td>2434.818747</td>\n",
              "      <td>NaN</td>\n",
              "    </tr>\n",
              "    <tr>\n",
              "      <th>24236803</th>\n",
              "      <td>1632182400</td>\n",
              "      <td>13</td>\n",
              "      <td>380.0</td>\n",
              "      <td>0.091390</td>\n",
              "      <td>0.091527</td>\n",
              "      <td>0.091260</td>\n",
              "      <td>0.091349</td>\n",
              "      <td>2.193732e+06</td>\n",
              "      <td>0.091388</td>\n",
              "      <td>NaN</td>\n",
              "    </tr>\n",
              "    <tr>\n",
              "      <th>24236804</th>\n",
              "      <td>1632182400</td>\n",
              "      <td>12</td>\n",
              "      <td>177.0</td>\n",
              "      <td>0.282168</td>\n",
              "      <td>0.282438</td>\n",
              "      <td>0.281842</td>\n",
              "      <td>0.282051</td>\n",
              "      <td>1.828508e+05</td>\n",
              "      <td>0.282134</td>\n",
              "      <td>NaN</td>\n",
              "    </tr>\n",
              "    <tr>\n",
              "      <th>24236805</th>\n",
              "      <td>1632182400</td>\n",
              "      <td>11</td>\n",
              "      <td>48.0</td>\n",
              "      <td>232.695000</td>\n",
              "      <td>232.800000</td>\n",
              "      <td>232.240000</td>\n",
              "      <td>232.275000</td>\n",
              "      <td>1.035123e+02</td>\n",
              "      <td>232.569697</td>\n",
              "      <td>NaN</td>\n",
              "    </tr>\n",
              "  </tbody>\n",
              "</table>\n",
              "<p>24236806 rows × 10 columns</p>\n",
              "</div>\n",
              "      <button class=\"colab-df-convert\" onclick=\"convertToInteractive('df-ee052ae7-fa85-4b4d-a584-63b35f2e7f15')\"\n",
              "              title=\"Convert this dataframe to an interactive table.\"\n",
              "              style=\"display:none;\">\n",
              "        \n",
              "  <svg xmlns=\"http://www.w3.org/2000/svg\" height=\"24px\"viewBox=\"0 0 24 24\"\n",
              "       width=\"24px\">\n",
              "    <path d=\"M0 0h24v24H0V0z\" fill=\"none\"/>\n",
              "    <path d=\"M18.56 5.44l.94 2.06.94-2.06 2.06-.94-2.06-.94-.94-2.06-.94 2.06-2.06.94zm-11 1L8.5 8.5l.94-2.06 2.06-.94-2.06-.94L8.5 2.5l-.94 2.06-2.06.94zm10 10l.94 2.06.94-2.06 2.06-.94-2.06-.94-.94-2.06-.94 2.06-2.06.94z\"/><path d=\"M17.41 7.96l-1.37-1.37c-.4-.4-.92-.59-1.43-.59-.52 0-1.04.2-1.43.59L10.3 9.45l-7.72 7.72c-.78.78-.78 2.05 0 2.83L4 21.41c.39.39.9.59 1.41.59.51 0 1.02-.2 1.41-.59l7.78-7.78 2.81-2.81c.8-.78.8-2.07 0-2.86zM5.41 20L4 18.59l7.72-7.72 1.47 1.35L5.41 20z\"/>\n",
              "  </svg>\n",
              "      </button>\n",
              "      \n",
              "  <style>\n",
              "    .colab-df-container {\n",
              "      display:flex;\n",
              "      flex-wrap:wrap;\n",
              "      gap: 12px;\n",
              "    }\n",
              "\n",
              "    .colab-df-convert {\n",
              "      background-color: #E8F0FE;\n",
              "      border: none;\n",
              "      border-radius: 50%;\n",
              "      cursor: pointer;\n",
              "      display: none;\n",
              "      fill: #1967D2;\n",
              "      height: 32px;\n",
              "      padding: 0 0 0 0;\n",
              "      width: 32px;\n",
              "    }\n",
              "\n",
              "    .colab-df-convert:hover {\n",
              "      background-color: #E2EBFA;\n",
              "      box-shadow: 0px 1px 2px rgba(60, 64, 67, 0.3), 0px 1px 3px 1px rgba(60, 64, 67, 0.15);\n",
              "      fill: #174EA6;\n",
              "    }\n",
              "\n",
              "    [theme=dark] .colab-df-convert {\n",
              "      background-color: #3B4455;\n",
              "      fill: #D2E3FC;\n",
              "    }\n",
              "\n",
              "    [theme=dark] .colab-df-convert:hover {\n",
              "      background-color: #434B5C;\n",
              "      box-shadow: 0px 1px 3px 1px rgba(0, 0, 0, 0.15);\n",
              "      filter: drop-shadow(0px 1px 2px rgba(0, 0, 0, 0.3));\n",
              "      fill: #FFFFFF;\n",
              "    }\n",
              "  </style>\n",
              "\n",
              "      <script>\n",
              "        const buttonEl =\n",
              "          document.querySelector('#df-ee052ae7-fa85-4b4d-a584-63b35f2e7f15 button.colab-df-convert');\n",
              "        buttonEl.style.display =\n",
              "          google.colab.kernel.accessAllowed ? 'block' : 'none';\n",
              "\n",
              "        async function convertToInteractive(key) {\n",
              "          const element = document.querySelector('#df-ee052ae7-fa85-4b4d-a584-63b35f2e7f15');\n",
              "          const dataTable =\n",
              "            await google.colab.kernel.invokeFunction('convertToInteractive',\n",
              "                                                     [key], {});\n",
              "          if (!dataTable) return;\n",
              "\n",
              "          const docLinkHtml = 'Like what you see? Visit the ' +\n",
              "            '<a target=\"_blank\" href=https://colab.research.google.com/notebooks/data_table.ipynb>data table notebook</a>'\n",
              "            + ' to learn more about interactive tables.';\n",
              "          element.innerHTML = '';\n",
              "          dataTable['output_type'] = 'display_data';\n",
              "          await google.colab.output.renderOutput(dataTable, element);\n",
              "          const docLink = document.createElement('div');\n",
              "          docLink.innerHTML = docLinkHtml;\n",
              "          element.appendChild(docLink);\n",
              "        }\n",
              "      </script>\n",
              "    </div>\n",
              "  </div>\n",
              "  "
            ]
          },
          "metadata": {},
          "execution_count": 4
        }
      ]
    },
    {
      "cell_type": "code",
      "source": [
        "train_df.shape"
      ],
      "metadata": {
        "colab": {
          "base_uri": "https://localhost:8080/"
        },
        "id": "RMW_8_e5gP-G",
        "outputId": "7824e2d6-6fc8-477d-f6c2-32d6099aa23e"
      },
      "execution_count": null,
      "outputs": [
        {
          "output_type": "execute_result",
          "data": {
            "text/plain": [
              "(24236806, 10)"
            ]
          },
          "metadata": {},
          "execution_count": 12
        }
      ]
    },
    {
      "cell_type": "code",
      "source": [
        "# Convert timestamp to date time\n",
        "train_df['timestamp'] = train_df.timestamp.astype('datetime64[s]')\n",
        "train_df = train_df[train_df.timestamp.dt.year==2020]\n",
        "train_df = train_df[train_df.timestamp.dt.month==11]\n",
        "train_df.shape"
      ],
      "metadata": {
        "colab": {
          "base_uri": "https://localhost:8080/"
        },
        "id": "-bvcRhdmgY2M",
        "outputId": "4716f9b0-d09b-4f97-9bda-93a538c185f8"
      },
      "execution_count": null,
      "outputs": [
        {
          "output_type": "execute_result",
          "data": {
            "text/plain": [
              "(598769, 10)"
            ]
          },
          "metadata": {},
          "execution_count": 5
        }
      ]
    },
    {
      "cell_type": "code",
      "source": [
        "train_df.dropna(inplace=True)\n",
        "train_df = train_df[np.isfinite(train_df).all(1)]"
      ],
      "metadata": {
        "id": "e2a9y7c6gmNg"
      },
      "execution_count": null,
      "outputs": []
    },
    {
      "cell_type": "code",
      "source": [
        "train_df.shape"
      ],
      "metadata": {
        "colab": {
          "base_uri": "https://localhost:8080/"
        },
        "id": "ummHCgbBkDon",
        "outputId": "4eb3c7e1-1957-4fb3-b519-5c98b0b09c7a"
      },
      "execution_count": null,
      "outputs": [
        {
          "output_type": "execute_result",
          "data": {
            "text/plain": [
              "(589955, 10)"
            ]
          },
          "metadata": {},
          "execution_count": 7
        }
      ]
    },
    {
      "cell_type": "code",
      "source": [
        "train_df.describe()"
      ],
      "metadata": {
        "colab": {
          "base_uri": "https://localhost:8080/",
          "height": 297
        },
        "id": "DIQchgPugof3",
        "outputId": "499f89ce-7166-495c-80b4-a794412cb71d"
      },
      "execution_count": null,
      "outputs": [
        {
          "output_type": "execute_result",
          "data": {
            "text/plain": [
              "            Asset_ID          Count           Open           High  \\\n",
              "count  589955.000000  589955.000000  589955.000000  589955.000000   \n",
              "mean        6.473456     285.892887    1320.409986    1322.450504   \n",
              "std         4.068315     628.253640    4301.293082    4307.891268   \n",
              "min         0.000000       1.000000       0.002451       0.002453   \n",
              "25%         3.000000      28.000000       0.128017       0.128417   \n",
              "50%         6.000000      80.000000      27.651600      27.671300   \n",
              "75%        10.000000     262.000000     262.734500     263.210000   \n",
              "max        13.000000   38146.000000   19842.913750   19873.230000   \n",
              "\n",
              "                 Low          Close        Volume           VWAP  \\\n",
              "count  589955.000000  589955.000000  5.899550e+05  589955.000000   \n",
              "mean     1318.366282    1320.418393  3.544014e+05    1320.401154   \n",
              "std      4294.558528    4301.324037  1.416194e+06    4301.260318   \n",
              "min         0.002450       0.002452  6.000000e-05       0.002452   \n",
              "25%         0.127590       0.128001  1.872239e+02       0.127994   \n",
              "50%        27.629000      27.651700  2.062042e+03      27.651692   \n",
              "75%       262.340000     262.732917  6.408410e+04     262.729967   \n",
              "max     19762.400000   19840.008750  1.539141e+08   19826.506346   \n",
              "\n",
              "              Target  \n",
              "count  589955.000000  \n",
              "mean        0.000027  \n",
              "std         0.004511  \n",
              "min        -0.126551  \n",
              "25%        -0.001631  \n",
              "50%        -0.000049  \n",
              "75%         0.001547  \n",
              "max         0.089697  "
            ],
            "text/html": [
              "\n",
              "  <div id=\"df-0eeb9036-144e-4e25-a82d-2b3ee06abfd9\">\n",
              "    <div class=\"colab-df-container\">\n",
              "      <div>\n",
              "<style scoped>\n",
              "    .dataframe tbody tr th:only-of-type {\n",
              "        vertical-align: middle;\n",
              "    }\n",
              "\n",
              "    .dataframe tbody tr th {\n",
              "        vertical-align: top;\n",
              "    }\n",
              "\n",
              "    .dataframe thead th {\n",
              "        text-align: right;\n",
              "    }\n",
              "</style>\n",
              "<table border=\"1\" class=\"dataframe\">\n",
              "  <thead>\n",
              "    <tr style=\"text-align: right;\">\n",
              "      <th></th>\n",
              "      <th>Asset_ID</th>\n",
              "      <th>Count</th>\n",
              "      <th>Open</th>\n",
              "      <th>High</th>\n",
              "      <th>Low</th>\n",
              "      <th>Close</th>\n",
              "      <th>Volume</th>\n",
              "      <th>VWAP</th>\n",
              "      <th>Target</th>\n",
              "    </tr>\n",
              "  </thead>\n",
              "  <tbody>\n",
              "    <tr>\n",
              "      <th>count</th>\n",
              "      <td>589955.000000</td>\n",
              "      <td>589955.000000</td>\n",
              "      <td>589955.000000</td>\n",
              "      <td>589955.000000</td>\n",
              "      <td>589955.000000</td>\n",
              "      <td>589955.000000</td>\n",
              "      <td>5.899550e+05</td>\n",
              "      <td>589955.000000</td>\n",
              "      <td>589955.000000</td>\n",
              "    </tr>\n",
              "    <tr>\n",
              "      <th>mean</th>\n",
              "      <td>6.473456</td>\n",
              "      <td>285.892887</td>\n",
              "      <td>1320.409986</td>\n",
              "      <td>1322.450504</td>\n",
              "      <td>1318.366282</td>\n",
              "      <td>1320.418393</td>\n",
              "      <td>3.544014e+05</td>\n",
              "      <td>1320.401154</td>\n",
              "      <td>0.000027</td>\n",
              "    </tr>\n",
              "    <tr>\n",
              "      <th>std</th>\n",
              "      <td>4.068315</td>\n",
              "      <td>628.253640</td>\n",
              "      <td>4301.293082</td>\n",
              "      <td>4307.891268</td>\n",
              "      <td>4294.558528</td>\n",
              "      <td>4301.324037</td>\n",
              "      <td>1.416194e+06</td>\n",
              "      <td>4301.260318</td>\n",
              "      <td>0.004511</td>\n",
              "    </tr>\n",
              "    <tr>\n",
              "      <th>min</th>\n",
              "      <td>0.000000</td>\n",
              "      <td>1.000000</td>\n",
              "      <td>0.002451</td>\n",
              "      <td>0.002453</td>\n",
              "      <td>0.002450</td>\n",
              "      <td>0.002452</td>\n",
              "      <td>6.000000e-05</td>\n",
              "      <td>0.002452</td>\n",
              "      <td>-0.126551</td>\n",
              "    </tr>\n",
              "    <tr>\n",
              "      <th>25%</th>\n",
              "      <td>3.000000</td>\n",
              "      <td>28.000000</td>\n",
              "      <td>0.128017</td>\n",
              "      <td>0.128417</td>\n",
              "      <td>0.127590</td>\n",
              "      <td>0.128001</td>\n",
              "      <td>1.872239e+02</td>\n",
              "      <td>0.127994</td>\n",
              "      <td>-0.001631</td>\n",
              "    </tr>\n",
              "    <tr>\n",
              "      <th>50%</th>\n",
              "      <td>6.000000</td>\n",
              "      <td>80.000000</td>\n",
              "      <td>27.651600</td>\n",
              "      <td>27.671300</td>\n",
              "      <td>27.629000</td>\n",
              "      <td>27.651700</td>\n",
              "      <td>2.062042e+03</td>\n",
              "      <td>27.651692</td>\n",
              "      <td>-0.000049</td>\n",
              "    </tr>\n",
              "    <tr>\n",
              "      <th>75%</th>\n",
              "      <td>10.000000</td>\n",
              "      <td>262.000000</td>\n",
              "      <td>262.734500</td>\n",
              "      <td>263.210000</td>\n",
              "      <td>262.340000</td>\n",
              "      <td>262.732917</td>\n",
              "      <td>6.408410e+04</td>\n",
              "      <td>262.729967</td>\n",
              "      <td>0.001547</td>\n",
              "    </tr>\n",
              "    <tr>\n",
              "      <th>max</th>\n",
              "      <td>13.000000</td>\n",
              "      <td>38146.000000</td>\n",
              "      <td>19842.913750</td>\n",
              "      <td>19873.230000</td>\n",
              "      <td>19762.400000</td>\n",
              "      <td>19840.008750</td>\n",
              "      <td>1.539141e+08</td>\n",
              "      <td>19826.506346</td>\n",
              "      <td>0.089697</td>\n",
              "    </tr>\n",
              "  </tbody>\n",
              "</table>\n",
              "</div>\n",
              "      <button class=\"colab-df-convert\" onclick=\"convertToInteractive('df-0eeb9036-144e-4e25-a82d-2b3ee06abfd9')\"\n",
              "              title=\"Convert this dataframe to an interactive table.\"\n",
              "              style=\"display:none;\">\n",
              "        \n",
              "  <svg xmlns=\"http://www.w3.org/2000/svg\" height=\"24px\"viewBox=\"0 0 24 24\"\n",
              "       width=\"24px\">\n",
              "    <path d=\"M0 0h24v24H0V0z\" fill=\"none\"/>\n",
              "    <path d=\"M18.56 5.44l.94 2.06.94-2.06 2.06-.94-2.06-.94-.94-2.06-.94 2.06-2.06.94zm-11 1L8.5 8.5l.94-2.06 2.06-.94-2.06-.94L8.5 2.5l-.94 2.06-2.06.94zm10 10l.94 2.06.94-2.06 2.06-.94-2.06-.94-.94-2.06-.94 2.06-2.06.94z\"/><path d=\"M17.41 7.96l-1.37-1.37c-.4-.4-.92-.59-1.43-.59-.52 0-1.04.2-1.43.59L10.3 9.45l-7.72 7.72c-.78.78-.78 2.05 0 2.83L4 21.41c.39.39.9.59 1.41.59.51 0 1.02-.2 1.41-.59l7.78-7.78 2.81-2.81c.8-.78.8-2.07 0-2.86zM5.41 20L4 18.59l7.72-7.72 1.47 1.35L5.41 20z\"/>\n",
              "  </svg>\n",
              "      </button>\n",
              "      \n",
              "  <style>\n",
              "    .colab-df-container {\n",
              "      display:flex;\n",
              "      flex-wrap:wrap;\n",
              "      gap: 12px;\n",
              "    }\n",
              "\n",
              "    .colab-df-convert {\n",
              "      background-color: #E8F0FE;\n",
              "      border: none;\n",
              "      border-radius: 50%;\n",
              "      cursor: pointer;\n",
              "      display: none;\n",
              "      fill: #1967D2;\n",
              "      height: 32px;\n",
              "      padding: 0 0 0 0;\n",
              "      width: 32px;\n",
              "    }\n",
              "\n",
              "    .colab-df-convert:hover {\n",
              "      background-color: #E2EBFA;\n",
              "      box-shadow: 0px 1px 2px rgba(60, 64, 67, 0.3), 0px 1px 3px 1px rgba(60, 64, 67, 0.15);\n",
              "      fill: #174EA6;\n",
              "    }\n",
              "\n",
              "    [theme=dark] .colab-df-convert {\n",
              "      background-color: #3B4455;\n",
              "      fill: #D2E3FC;\n",
              "    }\n",
              "\n",
              "    [theme=dark] .colab-df-convert:hover {\n",
              "      background-color: #434B5C;\n",
              "      box-shadow: 0px 1px 3px 1px rgba(0, 0, 0, 0.15);\n",
              "      filter: drop-shadow(0px 1px 2px rgba(0, 0, 0, 0.3));\n",
              "      fill: #FFFFFF;\n",
              "    }\n",
              "  </style>\n",
              "\n",
              "      <script>\n",
              "        const buttonEl =\n",
              "          document.querySelector('#df-0eeb9036-144e-4e25-a82d-2b3ee06abfd9 button.colab-df-convert');\n",
              "        buttonEl.style.display =\n",
              "          google.colab.kernel.accessAllowed ? 'block' : 'none';\n",
              "\n",
              "        async function convertToInteractive(key) {\n",
              "          const element = document.querySelector('#df-0eeb9036-144e-4e25-a82d-2b3ee06abfd9');\n",
              "          const dataTable =\n",
              "            await google.colab.kernel.invokeFunction('convertToInteractive',\n",
              "                                                     [key], {});\n",
              "          if (!dataTable) return;\n",
              "\n",
              "          const docLinkHtml = 'Like what you see? Visit the ' +\n",
              "            '<a target=\"_blank\" href=https://colab.research.google.com/notebooks/data_table.ipynb>data table notebook</a>'\n",
              "            + ' to learn more about interactive tables.';\n",
              "          element.innerHTML = '';\n",
              "          dataTable['output_type'] = 'display_data';\n",
              "          await google.colab.output.renderOutput(dataTable, element);\n",
              "          const docLink = document.createElement('div');\n",
              "          docLink.innerHTML = docLinkHtml;\n",
              "          element.appendChild(docLink);\n",
              "        }\n",
              "      </script>\n",
              "    </div>\n",
              "  </div>\n",
              "  "
            ]
          },
          "metadata": {},
          "execution_count": 8
        }
      ]
    },
    {
      "cell_type": "code",
      "source": [
        "# Create hour variable\n",
        "train_df['hour'] = train_df.timestamp.dt.hour\n",
        "\n",
        "# Create weekday variable\n",
        "train_df['weekday'] = train_df.timestamp.dt.weekday"
      ],
      "metadata": {
        "id": "_aSZrqhrgrwi"
      },
      "execution_count": null,
      "outputs": []
    },
    {
      "cell_type": "code",
      "source": [
        "train_df"
      ],
      "metadata": {
        "colab": {
          "base_uri": "https://localhost:8080/",
          "height": 419
        },
        "id": "IOtujsEhgxoS",
        "outputId": "94288236-33a9-4aac-d718-d73474ca17f7"
      },
      "execution_count": null,
      "outputs": [
        {
          "output_type": "execute_result",
          "data": {
            "text/plain": [
              "                   timestamp  Asset_ID   Count          Open          High  \\\n",
              "17714600 2020-11-01 00:01:00         3    61.0      0.092705      0.092764   \n",
              "17714601 2020-11-01 00:01:00         2   163.0    261.896000    262.160000   \n",
              "17714602 2020-11-01 00:01:00         0   150.0     28.347800     28.362300   \n",
              "17714603 2020-11-01 00:01:00         1  2445.0  13734.228920  13754.300000   \n",
              "17714604 2020-11-01 00:01:00         4    10.0      0.002560      0.002562   \n",
              "...                      ...       ...     ...           ...           ...   \n",
              "18313364 2020-11-30 23:59:00         9   281.0     87.689714     87.880000   \n",
              "18313365 2020-11-30 23:59:00        10    49.0    568.198400    569.230000   \n",
              "18313366 2020-11-30 23:59:00        13   149.0      0.032355      0.032400   \n",
              "18313367 2020-11-30 23:59:00        12   365.0      0.202874      0.203569   \n",
              "18313368 2020-11-30 23:59:00        11   340.0    130.010000    130.780000   \n",
              "\n",
              "                   Low         Close        Volume          VWAP    Target  \\\n",
              "17714600      0.092566      0.092626  1.658528e+05      0.092651  0.001047   \n",
              "17714601    261.590000    261.904000  1.985741e+02    261.854820 -0.002429   \n",
              "17714602     28.303400     28.342000  5.011629e+03     28.328415 -0.005357   \n",
              "17714603  13720.000000  13741.110730  2.135172e+02  13737.261551  0.000794   \n",
              "17714604      0.002558      0.002561  1.174202e+05      0.002561  0.004920   \n",
              "...                ...           ...           ...           ...       ...   \n",
              "18313364     87.590000     87.671286  3.960266e+03     87.733833 -0.000098   \n",
              "18313365    567.805800    568.227433  2.044260e+01    568.515584 -0.006150   \n",
              "18313366      0.032340      0.032361  3.776827e+06      0.032367  0.000044   \n",
              "18313367      0.202651      0.202946  9.302105e+05      0.203051 -0.006227   \n",
              "18313368    130.000000    130.480000  9.174512e+02    130.290738 -0.000804   \n",
              "\n",
              "          hour  weekday  \n",
              "17714600     0        6  \n",
              "17714601     0        6  \n",
              "17714602     0        6  \n",
              "17714603     0        6  \n",
              "17714604     0        6  \n",
              "...        ...      ...  \n",
              "18313364    23        0  \n",
              "18313365    23        0  \n",
              "18313366    23        0  \n",
              "18313367    23        0  \n",
              "18313368    23        0  \n",
              "\n",
              "[589955 rows x 12 columns]"
            ],
            "text/html": [
              "\n",
              "  <div id=\"df-dc476518-46e3-4113-bc91-a8b3367e87d0\">\n",
              "    <div class=\"colab-df-container\">\n",
              "      <div>\n",
              "<style scoped>\n",
              "    .dataframe tbody tr th:only-of-type {\n",
              "        vertical-align: middle;\n",
              "    }\n",
              "\n",
              "    .dataframe tbody tr th {\n",
              "        vertical-align: top;\n",
              "    }\n",
              "\n",
              "    .dataframe thead th {\n",
              "        text-align: right;\n",
              "    }\n",
              "</style>\n",
              "<table border=\"1\" class=\"dataframe\">\n",
              "  <thead>\n",
              "    <tr style=\"text-align: right;\">\n",
              "      <th></th>\n",
              "      <th>timestamp</th>\n",
              "      <th>Asset_ID</th>\n",
              "      <th>Count</th>\n",
              "      <th>Open</th>\n",
              "      <th>High</th>\n",
              "      <th>Low</th>\n",
              "      <th>Close</th>\n",
              "      <th>Volume</th>\n",
              "      <th>VWAP</th>\n",
              "      <th>Target</th>\n",
              "      <th>hour</th>\n",
              "      <th>weekday</th>\n",
              "    </tr>\n",
              "  </thead>\n",
              "  <tbody>\n",
              "    <tr>\n",
              "      <th>17714600</th>\n",
              "      <td>2020-11-01 00:01:00</td>\n",
              "      <td>3</td>\n",
              "      <td>61.0</td>\n",
              "      <td>0.092705</td>\n",
              "      <td>0.092764</td>\n",
              "      <td>0.092566</td>\n",
              "      <td>0.092626</td>\n",
              "      <td>1.658528e+05</td>\n",
              "      <td>0.092651</td>\n",
              "      <td>0.001047</td>\n",
              "      <td>0</td>\n",
              "      <td>6</td>\n",
              "    </tr>\n",
              "    <tr>\n",
              "      <th>17714601</th>\n",
              "      <td>2020-11-01 00:01:00</td>\n",
              "      <td>2</td>\n",
              "      <td>163.0</td>\n",
              "      <td>261.896000</td>\n",
              "      <td>262.160000</td>\n",
              "      <td>261.590000</td>\n",
              "      <td>261.904000</td>\n",
              "      <td>1.985741e+02</td>\n",
              "      <td>261.854820</td>\n",
              "      <td>-0.002429</td>\n",
              "      <td>0</td>\n",
              "      <td>6</td>\n",
              "    </tr>\n",
              "    <tr>\n",
              "      <th>17714602</th>\n",
              "      <td>2020-11-01 00:01:00</td>\n",
              "      <td>0</td>\n",
              "      <td>150.0</td>\n",
              "      <td>28.347800</td>\n",
              "      <td>28.362300</td>\n",
              "      <td>28.303400</td>\n",
              "      <td>28.342000</td>\n",
              "      <td>5.011629e+03</td>\n",
              "      <td>28.328415</td>\n",
              "      <td>-0.005357</td>\n",
              "      <td>0</td>\n",
              "      <td>6</td>\n",
              "    </tr>\n",
              "    <tr>\n",
              "      <th>17714603</th>\n",
              "      <td>2020-11-01 00:01:00</td>\n",
              "      <td>1</td>\n",
              "      <td>2445.0</td>\n",
              "      <td>13734.228920</td>\n",
              "      <td>13754.300000</td>\n",
              "      <td>13720.000000</td>\n",
              "      <td>13741.110730</td>\n",
              "      <td>2.135172e+02</td>\n",
              "      <td>13737.261551</td>\n",
              "      <td>0.000794</td>\n",
              "      <td>0</td>\n",
              "      <td>6</td>\n",
              "    </tr>\n",
              "    <tr>\n",
              "      <th>17714604</th>\n",
              "      <td>2020-11-01 00:01:00</td>\n",
              "      <td>4</td>\n",
              "      <td>10.0</td>\n",
              "      <td>0.002560</td>\n",
              "      <td>0.002562</td>\n",
              "      <td>0.002558</td>\n",
              "      <td>0.002561</td>\n",
              "      <td>1.174202e+05</td>\n",
              "      <td>0.002561</td>\n",
              "      <td>0.004920</td>\n",
              "      <td>0</td>\n",
              "      <td>6</td>\n",
              "    </tr>\n",
              "    <tr>\n",
              "      <th>...</th>\n",
              "      <td>...</td>\n",
              "      <td>...</td>\n",
              "      <td>...</td>\n",
              "      <td>...</td>\n",
              "      <td>...</td>\n",
              "      <td>...</td>\n",
              "      <td>...</td>\n",
              "      <td>...</td>\n",
              "      <td>...</td>\n",
              "      <td>...</td>\n",
              "      <td>...</td>\n",
              "      <td>...</td>\n",
              "    </tr>\n",
              "    <tr>\n",
              "      <th>18313364</th>\n",
              "      <td>2020-11-30 23:59:00</td>\n",
              "      <td>9</td>\n",
              "      <td>281.0</td>\n",
              "      <td>87.689714</td>\n",
              "      <td>87.880000</td>\n",
              "      <td>87.590000</td>\n",
              "      <td>87.671286</td>\n",
              "      <td>3.960266e+03</td>\n",
              "      <td>87.733833</td>\n",
              "      <td>-0.000098</td>\n",
              "      <td>23</td>\n",
              "      <td>0</td>\n",
              "    </tr>\n",
              "    <tr>\n",
              "      <th>18313365</th>\n",
              "      <td>2020-11-30 23:59:00</td>\n",
              "      <td>10</td>\n",
              "      <td>49.0</td>\n",
              "      <td>568.198400</td>\n",
              "      <td>569.230000</td>\n",
              "      <td>567.805800</td>\n",
              "      <td>568.227433</td>\n",
              "      <td>2.044260e+01</td>\n",
              "      <td>568.515584</td>\n",
              "      <td>-0.006150</td>\n",
              "      <td>23</td>\n",
              "      <td>0</td>\n",
              "    </tr>\n",
              "    <tr>\n",
              "      <th>18313366</th>\n",
              "      <td>2020-11-30 23:59:00</td>\n",
              "      <td>13</td>\n",
              "      <td>149.0</td>\n",
              "      <td>0.032355</td>\n",
              "      <td>0.032400</td>\n",
              "      <td>0.032340</td>\n",
              "      <td>0.032361</td>\n",
              "      <td>3.776827e+06</td>\n",
              "      <td>0.032367</td>\n",
              "      <td>0.000044</td>\n",
              "      <td>23</td>\n",
              "      <td>0</td>\n",
              "    </tr>\n",
              "    <tr>\n",
              "      <th>18313367</th>\n",
              "      <td>2020-11-30 23:59:00</td>\n",
              "      <td>12</td>\n",
              "      <td>365.0</td>\n",
              "      <td>0.202874</td>\n",
              "      <td>0.203569</td>\n",
              "      <td>0.202651</td>\n",
              "      <td>0.202946</td>\n",
              "      <td>9.302105e+05</td>\n",
              "      <td>0.203051</td>\n",
              "      <td>-0.006227</td>\n",
              "      <td>23</td>\n",
              "      <td>0</td>\n",
              "    </tr>\n",
              "    <tr>\n",
              "      <th>18313368</th>\n",
              "      <td>2020-11-30 23:59:00</td>\n",
              "      <td>11</td>\n",
              "      <td>340.0</td>\n",
              "      <td>130.010000</td>\n",
              "      <td>130.780000</td>\n",
              "      <td>130.000000</td>\n",
              "      <td>130.480000</td>\n",
              "      <td>9.174512e+02</td>\n",
              "      <td>130.290738</td>\n",
              "      <td>-0.000804</td>\n",
              "      <td>23</td>\n",
              "      <td>0</td>\n",
              "    </tr>\n",
              "  </tbody>\n",
              "</table>\n",
              "<p>589955 rows × 12 columns</p>\n",
              "</div>\n",
              "      <button class=\"colab-df-convert\" onclick=\"convertToInteractive('df-dc476518-46e3-4113-bc91-a8b3367e87d0')\"\n",
              "              title=\"Convert this dataframe to an interactive table.\"\n",
              "              style=\"display:none;\">\n",
              "        \n",
              "  <svg xmlns=\"http://www.w3.org/2000/svg\" height=\"24px\"viewBox=\"0 0 24 24\"\n",
              "       width=\"24px\">\n",
              "    <path d=\"M0 0h24v24H0V0z\" fill=\"none\"/>\n",
              "    <path d=\"M18.56 5.44l.94 2.06.94-2.06 2.06-.94-2.06-.94-.94-2.06-.94 2.06-2.06.94zm-11 1L8.5 8.5l.94-2.06 2.06-.94-2.06-.94L8.5 2.5l-.94 2.06-2.06.94zm10 10l.94 2.06.94-2.06 2.06-.94-2.06-.94-.94-2.06-.94 2.06-2.06.94z\"/><path d=\"M17.41 7.96l-1.37-1.37c-.4-.4-.92-.59-1.43-.59-.52 0-1.04.2-1.43.59L10.3 9.45l-7.72 7.72c-.78.78-.78 2.05 0 2.83L4 21.41c.39.39.9.59 1.41.59.51 0 1.02-.2 1.41-.59l7.78-7.78 2.81-2.81c.8-.78.8-2.07 0-2.86zM5.41 20L4 18.59l7.72-7.72 1.47 1.35L5.41 20z\"/>\n",
              "  </svg>\n",
              "      </button>\n",
              "      \n",
              "  <style>\n",
              "    .colab-df-container {\n",
              "      display:flex;\n",
              "      flex-wrap:wrap;\n",
              "      gap: 12px;\n",
              "    }\n",
              "\n",
              "    .colab-df-convert {\n",
              "      background-color: #E8F0FE;\n",
              "      border: none;\n",
              "      border-radius: 50%;\n",
              "      cursor: pointer;\n",
              "      display: none;\n",
              "      fill: #1967D2;\n",
              "      height: 32px;\n",
              "      padding: 0 0 0 0;\n",
              "      width: 32px;\n",
              "    }\n",
              "\n",
              "    .colab-df-convert:hover {\n",
              "      background-color: #E2EBFA;\n",
              "      box-shadow: 0px 1px 2px rgba(60, 64, 67, 0.3), 0px 1px 3px 1px rgba(60, 64, 67, 0.15);\n",
              "      fill: #174EA6;\n",
              "    }\n",
              "\n",
              "    [theme=dark] .colab-df-convert {\n",
              "      background-color: #3B4455;\n",
              "      fill: #D2E3FC;\n",
              "    }\n",
              "\n",
              "    [theme=dark] .colab-df-convert:hover {\n",
              "      background-color: #434B5C;\n",
              "      box-shadow: 0px 1px 3px 1px rgba(0, 0, 0, 0.15);\n",
              "      filter: drop-shadow(0px 1px 2px rgba(0, 0, 0, 0.3));\n",
              "      fill: #FFFFFF;\n",
              "    }\n",
              "  </style>\n",
              "\n",
              "      <script>\n",
              "        const buttonEl =\n",
              "          document.querySelector('#df-dc476518-46e3-4113-bc91-a8b3367e87d0 button.colab-df-convert');\n",
              "        buttonEl.style.display =\n",
              "          google.colab.kernel.accessAllowed ? 'block' : 'none';\n",
              "\n",
              "        async function convertToInteractive(key) {\n",
              "          const element = document.querySelector('#df-dc476518-46e3-4113-bc91-a8b3367e87d0');\n",
              "          const dataTable =\n",
              "            await google.colab.kernel.invokeFunction('convertToInteractive',\n",
              "                                                     [key], {});\n",
              "          if (!dataTable) return;\n",
              "\n",
              "          const docLinkHtml = 'Like what you see? Visit the ' +\n",
              "            '<a target=\"_blank\" href=https://colab.research.google.com/notebooks/data_table.ipynb>data table notebook</a>'\n",
              "            + ' to learn more about interactive tables.';\n",
              "          element.innerHTML = '';\n",
              "          dataTable['output_type'] = 'display_data';\n",
              "          await google.colab.output.renderOutput(dataTable, element);\n",
              "          const docLink = document.createElement('div');\n",
              "          docLink.innerHTML = docLinkHtml;\n",
              "          element.appendChild(docLink);\n",
              "        }\n",
              "      </script>\n",
              "    </div>\n",
              "  </div>\n",
              "  "
            ]
          },
          "metadata": {},
          "execution_count": 10
        }
      ]
    },
    {
      "cell_type": "code",
      "source": [
        "import numpy as np # linear algebra\n",
        "from numpy.random import seed \n",
        "import math \n",
        "\n",
        "import pandas as pd # data processing, CSV file I/O (e.g. pd.read_csv)\n",
        "\n",
        "from datetime import datetime, date \n",
        "\n",
        "import matplotlib.pyplot as plt\n",
        "plt.rcParams.update({'font.size': 14})\n",
        "import seaborn as sns\n",
        "\n",
        "import warnings # Supress warnings \n",
        "warnings.filterwarnings('ignore')\n"
      ],
      "metadata": {
        "id": "2pBoJcHjeLDb"
      },
      "execution_count": null,
      "outputs": []
    },
    {
      "cell_type": "markdown",
      "source": [
        "One Hot Encode Categorical Variables:\n"
      ],
      "metadata": {
        "id": "ccCEiBmmhulm"
      }
    },
    {
      "cell_type": "markdown",
      "source": [
        "Convertir variables Asset_ID, hour et weekday aux variables catégorielles et  créer one hot encoder pour ces variables catégorielles pour s'améliorer la prédiction. "
      ],
      "metadata": {
        "id": "Kg0eV0Xbh28S"
      }
    },
    {
      "cell_type": "code",
      "source": [
        "# Convert Asset_ID, hour and weekday to categorical\n",
        "train_df['Asset_ID'] = train_df.Asset_ID.astype('category')\n",
        "train_df['hour'] = train_df.hour.astype('category')\n",
        "train_df['weekday'] = train_df.weekday.astype('category')\n",
        "\n",
        "encoder = OneHotEncoder(sparse=False, handle_unknown='ignore')\n",
        "\n",
        "encoder.fit(train_df[['Asset_ID','hour','weekday']])\n",
        "\n",
        "encoded_cols = list(encoder.get_feature_names(['Asset_ID','hour','weekday']))\n",
        "\n",
        "# replace variables catégorielles avec one hot encoder\n",
        "train_df[encoded_cols] = encoder.transform(train_df[['Asset_ID','hour','weekday']])"
      ],
      "metadata": {
        "id": "oeLjjXI8ho3G"
      },
      "execution_count": null,
      "outputs": []
    },
    {
      "cell_type": "code",
      "source": [
        "# Scale variables continues `Count`, `Open`, `High`, `Low`, `Close`, `Volume`, et `VWAP` de range 0 à 1.\n",
        "\n",
        "scaler = MinMaxScaler()\n",
        "\n",
        "num_cols = ['Count', 'Open', 'High', 'Low', 'Close', 'Volume', 'VWAP']\n",
        "\n",
        "scaler.fit(train_df[num_cols])\n",
        "train_df[num_cols] = scaler.transform(train_df[num_cols])"
      ],
      "metadata": {
        "id": "gS9puYkfjDUm"
      },
      "execution_count": null,
      "outputs": []
    },
    {
      "cell_type": "markdown",
      "source": [
        "#### Time Series Plots\n",
        "\n",
        "Le code suivant obtient la plage de temps pour chacun des `Asset_ID`."
      ],
      "metadata": {
        "id": "TB9eDregjPon"
      }
    },
    {
      "cell_type": "code",
      "source": [
        "train_df.groupby([\"Asset_ID\"]).agg({'timestamp': [np.min,np.max]})"
      ],
      "metadata": {
        "colab": {
          "base_uri": "https://localhost:8080/",
          "height": 545
        },
        "id": "v2CCPLZwjRNH",
        "outputId": "7dff37f8-6885-46bd-ba04-503e4ff63f03"
      },
      "execution_count": null,
      "outputs": [
        {
          "output_type": "execute_result",
          "data": {
            "text/plain": [
              "                   timestamp                    \n",
              "                        amin                amax\n",
              "Asset_ID                                        \n",
              "0        2020-11-01 00:01:00 2020-11-30 23:59:00\n",
              "1        2020-11-01 00:01:00 2020-11-30 23:59:00\n",
              "2        2020-11-01 00:01:00 2020-11-30 23:59:00\n",
              "3        2020-11-01 00:01:00 2020-11-30 23:59:00\n",
              "4        2020-11-01 00:01:00 2020-11-30 23:59:00\n",
              "5        2020-11-01 00:01:00 2020-11-30 23:59:00\n",
              "6        2020-11-01 00:01:00 2020-11-30 23:59:00\n",
              "7        2020-11-01 00:01:00 2020-11-30 23:59:00\n",
              "8        2020-11-01 00:01:00 2020-11-30 23:59:00\n",
              "9        2020-11-01 00:01:00 2020-11-30 23:59:00\n",
              "10       2020-11-01 00:01:00 2020-11-30 23:59:00\n",
              "11       2020-11-01 00:01:00 2020-11-30 23:59:00\n",
              "12       2020-11-01 00:01:00 2020-11-30 23:59:00\n",
              "13       2020-11-01 00:01:00 2020-11-30 23:59:00"
            ],
            "text/html": [
              "\n",
              "  <div id=\"df-12ce5464-217f-466a-be0f-301f7796325a\">\n",
              "    <div class=\"colab-df-container\">\n",
              "      <div>\n",
              "<style scoped>\n",
              "    .dataframe tbody tr th:only-of-type {\n",
              "        vertical-align: middle;\n",
              "    }\n",
              "\n",
              "    .dataframe tbody tr th {\n",
              "        vertical-align: top;\n",
              "    }\n",
              "\n",
              "    .dataframe thead tr th {\n",
              "        text-align: left;\n",
              "    }\n",
              "\n",
              "    .dataframe thead tr:last-of-type th {\n",
              "        text-align: right;\n",
              "    }\n",
              "</style>\n",
              "<table border=\"1\" class=\"dataframe\">\n",
              "  <thead>\n",
              "    <tr>\n",
              "      <th></th>\n",
              "      <th colspan=\"2\" halign=\"left\">timestamp</th>\n",
              "    </tr>\n",
              "    <tr>\n",
              "      <th></th>\n",
              "      <th>amin</th>\n",
              "      <th>amax</th>\n",
              "    </tr>\n",
              "    <tr>\n",
              "      <th>Asset_ID</th>\n",
              "      <th></th>\n",
              "      <th></th>\n",
              "    </tr>\n",
              "  </thead>\n",
              "  <tbody>\n",
              "    <tr>\n",
              "      <th>0</th>\n",
              "      <td>2020-11-01 00:01:00</td>\n",
              "      <td>2020-11-30 23:59:00</td>\n",
              "    </tr>\n",
              "    <tr>\n",
              "      <th>1</th>\n",
              "      <td>2020-11-01 00:01:00</td>\n",
              "      <td>2020-11-30 23:59:00</td>\n",
              "    </tr>\n",
              "    <tr>\n",
              "      <th>2</th>\n",
              "      <td>2020-11-01 00:01:00</td>\n",
              "      <td>2020-11-30 23:59:00</td>\n",
              "    </tr>\n",
              "    <tr>\n",
              "      <th>3</th>\n",
              "      <td>2020-11-01 00:01:00</td>\n",
              "      <td>2020-11-30 23:59:00</td>\n",
              "    </tr>\n",
              "    <tr>\n",
              "      <th>4</th>\n",
              "      <td>2020-11-01 00:01:00</td>\n",
              "      <td>2020-11-30 23:59:00</td>\n",
              "    </tr>\n",
              "    <tr>\n",
              "      <th>5</th>\n",
              "      <td>2020-11-01 00:01:00</td>\n",
              "      <td>2020-11-30 23:59:00</td>\n",
              "    </tr>\n",
              "    <tr>\n",
              "      <th>6</th>\n",
              "      <td>2020-11-01 00:01:00</td>\n",
              "      <td>2020-11-30 23:59:00</td>\n",
              "    </tr>\n",
              "    <tr>\n",
              "      <th>7</th>\n",
              "      <td>2020-11-01 00:01:00</td>\n",
              "      <td>2020-11-30 23:59:00</td>\n",
              "    </tr>\n",
              "    <tr>\n",
              "      <th>8</th>\n",
              "      <td>2020-11-01 00:01:00</td>\n",
              "      <td>2020-11-30 23:59:00</td>\n",
              "    </tr>\n",
              "    <tr>\n",
              "      <th>9</th>\n",
              "      <td>2020-11-01 00:01:00</td>\n",
              "      <td>2020-11-30 23:59:00</td>\n",
              "    </tr>\n",
              "    <tr>\n",
              "      <th>10</th>\n",
              "      <td>2020-11-01 00:01:00</td>\n",
              "      <td>2020-11-30 23:59:00</td>\n",
              "    </tr>\n",
              "    <tr>\n",
              "      <th>11</th>\n",
              "      <td>2020-11-01 00:01:00</td>\n",
              "      <td>2020-11-30 23:59:00</td>\n",
              "    </tr>\n",
              "    <tr>\n",
              "      <th>12</th>\n",
              "      <td>2020-11-01 00:01:00</td>\n",
              "      <td>2020-11-30 23:59:00</td>\n",
              "    </tr>\n",
              "    <tr>\n",
              "      <th>13</th>\n",
              "      <td>2020-11-01 00:01:00</td>\n",
              "      <td>2020-11-30 23:59:00</td>\n",
              "    </tr>\n",
              "  </tbody>\n",
              "</table>\n",
              "</div>\n",
              "      <button class=\"colab-df-convert\" onclick=\"convertToInteractive('df-12ce5464-217f-466a-be0f-301f7796325a')\"\n",
              "              title=\"Convert this dataframe to an interactive table.\"\n",
              "              style=\"display:none;\">\n",
              "        \n",
              "  <svg xmlns=\"http://www.w3.org/2000/svg\" height=\"24px\"viewBox=\"0 0 24 24\"\n",
              "       width=\"24px\">\n",
              "    <path d=\"M0 0h24v24H0V0z\" fill=\"none\"/>\n",
              "    <path d=\"M18.56 5.44l.94 2.06.94-2.06 2.06-.94-2.06-.94-.94-2.06-.94 2.06-2.06.94zm-11 1L8.5 8.5l.94-2.06 2.06-.94-2.06-.94L8.5 2.5l-.94 2.06-2.06.94zm10 10l.94 2.06.94-2.06 2.06-.94-2.06-.94-.94-2.06-.94 2.06-2.06.94z\"/><path d=\"M17.41 7.96l-1.37-1.37c-.4-.4-.92-.59-1.43-.59-.52 0-1.04.2-1.43.59L10.3 9.45l-7.72 7.72c-.78.78-.78 2.05 0 2.83L4 21.41c.39.39.9.59 1.41.59.51 0 1.02-.2 1.41-.59l7.78-7.78 2.81-2.81c.8-.78.8-2.07 0-2.86zM5.41 20L4 18.59l7.72-7.72 1.47 1.35L5.41 20z\"/>\n",
              "  </svg>\n",
              "      </button>\n",
              "      \n",
              "  <style>\n",
              "    .colab-df-container {\n",
              "      display:flex;\n",
              "      flex-wrap:wrap;\n",
              "      gap: 12px;\n",
              "    }\n",
              "\n",
              "    .colab-df-convert {\n",
              "      background-color: #E8F0FE;\n",
              "      border: none;\n",
              "      border-radius: 50%;\n",
              "      cursor: pointer;\n",
              "      display: none;\n",
              "      fill: #1967D2;\n",
              "      height: 32px;\n",
              "      padding: 0 0 0 0;\n",
              "      width: 32px;\n",
              "    }\n",
              "\n",
              "    .colab-df-convert:hover {\n",
              "      background-color: #E2EBFA;\n",
              "      box-shadow: 0px 1px 2px rgba(60, 64, 67, 0.3), 0px 1px 3px 1px rgba(60, 64, 67, 0.15);\n",
              "      fill: #174EA6;\n",
              "    }\n",
              "\n",
              "    [theme=dark] .colab-df-convert {\n",
              "      background-color: #3B4455;\n",
              "      fill: #D2E3FC;\n",
              "    }\n",
              "\n",
              "    [theme=dark] .colab-df-convert:hover {\n",
              "      background-color: #434B5C;\n",
              "      box-shadow: 0px 1px 3px 1px rgba(0, 0, 0, 0.15);\n",
              "      filter: drop-shadow(0px 1px 2px rgba(0, 0, 0, 0.3));\n",
              "      fill: #FFFFFF;\n",
              "    }\n",
              "  </style>\n",
              "\n",
              "      <script>\n",
              "        const buttonEl =\n",
              "          document.querySelector('#df-12ce5464-217f-466a-be0f-301f7796325a button.colab-df-convert');\n",
              "        buttonEl.style.display =\n",
              "          google.colab.kernel.accessAllowed ? 'block' : 'none';\n",
              "\n",
              "        async function convertToInteractive(key) {\n",
              "          const element = document.querySelector('#df-12ce5464-217f-466a-be0f-301f7796325a');\n",
              "          const dataTable =\n",
              "            await google.colab.kernel.invokeFunction('convertToInteractive',\n",
              "                                                     [key], {});\n",
              "          if (!dataTable) return;\n",
              "\n",
              "          const docLinkHtml = 'Like what you see? Visit the ' +\n",
              "            '<a target=\"_blank\" href=https://colab.research.google.com/notebooks/data_table.ipynb>data table notebook</a>'\n",
              "            + ' to learn more about interactive tables.';\n",
              "          element.innerHTML = '';\n",
              "          dataTable['output_type'] = 'display_data';\n",
              "          await google.colab.output.renderOutput(dataTable, element);\n",
              "          const docLink = document.createElement('div');\n",
              "          docLink.innerHTML = docLinkHtml;\n",
              "          element.appendChild(docLink);\n",
              "        }\n",
              "      </script>\n",
              "    </div>\n",
              "  </div>\n",
              "  "
            ]
          },
          "metadata": {},
          "execution_count": 14
        }
      ]
    },
    {
      "cell_type": "markdown",
      "source": [
        "\n",
        "La plage de dates est légèrement différente pour chacun des actifs."
      ],
      "metadata": {
        "id": "dFFFpCumjmEd"
      }
    },
    {
      "cell_type": "code",
      "source": [
        "plt.figure(figsize=(35, 15))\n",
        "sns.lineplot(data=train_df, x=\"timestamp\", y=\"Target\", hue=\"Asset_ID\")"
      ],
      "metadata": {
        "colab": {
          "base_uri": "https://localhost:8080/",
          "height": 598
        },
        "id": "gTf5c2esjRPG",
        "outputId": "5b698524-e204-46f1-bbd5-174636b7cadd"
      },
      "execution_count": null,
      "outputs": [
        {
          "output_type": "execute_result",
          "data": {
            "text/plain": [
              "<matplotlib.axes._subplots.AxesSubplot at 0x7f8e77598e10>"
            ]
          },
          "metadata": {},
          "execution_count": 18
        },
        {
          "output_type": "display_data",
          "data": {
            "text/plain": [
              "<Figure size 2520x1080 with 1 Axes>"
            ],
            "image/png": "[encoded data removed]"
          },
          "metadata": {
            "needs_background": "light"
          }
        }
      ]
    },
    {
      "cell_type": "markdown",
      "source": [
        "\n",
        "#### Matrice de corrélation pour chaque asset\n"
      ],
      "metadata": {
        "id": "yd4UbBCOj7jC"
      }
    },
    {
      "cell_type": "code",
      "source": [
        "corr_matrix = train_df[['Count','Open','High','Low','Close','Volume','VWAP','Target']].corr()\n",
        "plt.figure(figsize=(10, 10))\n",
        "sns.heatmap(corr_matrix,annot=True, cmap='Blues');"
      ],
      "metadata": {
        "colab": {
          "base_uri": "https://localhost:8080/",
          "height": 601
        },
        "id": "djf-hhodjRRU",
        "outputId": "a3ecdaa2-b15a-4343-a8e4-0dc8af918ced"
      },
      "execution_count": null,
      "outputs": [
        {
          "output_type": "display_data",
          "data": {
            "text/plain": [
              "<Figure size 720x720 with 2 Axes>"
            ],
            "image/png": "[encoded data removed]"
          },
          "metadata": {
            "needs_background": "light"
          }
        }
      ]
    },
    {
      "cell_type": "markdown",
      "source": [
        "Les variables `Open`, `High`, `Low`, `Close`, and `VWAP` sont bien corrélés."
      ],
      "metadata": {
        "id": "y38MW3v5kLrM"
      }
    },
    {
      "cell_type": "markdown",
      "source": [
        "### Séparation des données en train_set et val_set\n"
      ],
      "metadata": {
        "id": "R7D9EwjgM5qq"
      }
    },
    {
      "cell_type": "code",
      "source": [
        "train_set = train_df[train_df.timestamp.dt.day <= 20]\n",
        "val_set = train_df[train_df.timestamp.dt.day > 20]"
      ],
      "metadata": {
        "id": "8VtRFN-aM3IN"
      },
      "execution_count": null,
      "outputs": []
    },
    {
      "cell_type": "code",
      "source": [
        "train_set.shape"
      ],
      "metadata": {
        "colab": {
          "base_uri": "https://localhost:8080/"
        },
        "id": "UWeYSMUmM3Km",
        "outputId": "53ca9a63-79e9-45c9-96ac-910756811e35"
      },
      "execution_count": null,
      "outputs": [
        {
          "output_type": "execute_result",
          "data": {
            "text/plain": [
              "(389242, 57)"
            ]
          },
          "metadata": {},
          "execution_count": 16
        }
      ]
    },
    {
      "cell_type": "code",
      "source": [
        "val_set.shape"
      ],
      "metadata": {
        "colab": {
          "base_uri": "https://localhost:8080/"
        },
        "id": "KSPgCZWNM3MW",
        "outputId": "fc921b34-1b5c-4555-f8c5-7f22bbc37cd1"
      },
      "execution_count": null,
      "outputs": [
        {
          "output_type": "execute_result",
          "data": {
            "text/plain": [
              "(200713, 57)"
            ]
          },
          "metadata": {},
          "execution_count": 17
        }
      ]
    },
    {
      "cell_type": "code",
      "source": [
        "train_set.Asset_ID.value_counts()"
      ],
      "metadata": {
        "colab": {
          "base_uri": "https://localhost:8080/"
        },
        "id": "d1DzikNNM-Mi",
        "outputId": "e222b7b6-e690-46d6-bab9-1225ed0f2741"
      },
      "execution_count": null,
      "outputs": [
        {
          "output_type": "execute_result",
          "data": {
            "text/plain": [
              "0     28799\n",
              "1     28799\n",
              "2     28799\n",
              "3     28799\n",
              "5     28799\n",
              "6     28799\n",
              "9     28799\n",
              "10    28799\n",
              "12    28799\n",
              "13    28799\n",
              "7     28745\n",
              "11    27874\n",
              "4     26595\n",
              "8     18038\n",
              "Name: Asset_ID, dtype: int64"
            ]
          },
          "metadata": {},
          "execution_count": 21
        }
      ]
    },
    {
      "cell_type": "code",
      "source": [
        "val_set.Asset_ID.value_counts()\n"
      ],
      "metadata": {
        "colab": {
          "base_uri": "https://localhost:8080/"
        },
        "id": "T52KRCtLM-Ob",
        "outputId": "82c986ad-a4f6-4a19-fc1b-be2ded061c0a"
      },
      "execution_count": null,
      "outputs": [
        {
          "output_type": "execute_result",
          "data": {
            "text/plain": [
              "1     14400\n",
              "2     14400\n",
              "3     14400\n",
              "5     14400\n",
              "6     14400\n",
              "7     14400\n",
              "9     14400\n",
              "10    14400\n",
              "12    14400\n",
              "13    14400\n",
              "4     14368\n",
              "11    14332\n",
              "0     14329\n",
              "8     13684\n",
              "Name: Asset_ID, dtype: int64"
            ]
          },
          "metadata": {},
          "execution_count": 22
        }
      ]
    },
    {
      "cell_type": "code",
      "source": [
        "\n",
        "input_cols = num_cols + encoded_cols\n",
        "target_col = 'Target'"
      ],
      "metadata": {
        "id": "9PdQ5pYs5u_W"
      },
      "execution_count": null,
      "outputs": []
    },
    {
      "cell_type": "markdown",
      "source": [
        "## Linear Regression:"
      ],
      "metadata": {
        "id": "6DVx0IN-FrZb"
      }
    },
    {
      "cell_type": "code",
      "source": [
        "from sklearn.linear_model import LinearRegression\n",
        "\n",
        "LR = LinearRegression()\n",
        "\n",
        "LR_fit=LR.fit(train_set[input_cols], train_set[target_col])\n",
        "\n",
        "LR_train_preds = LR_fit.predict(train_set[input_cols])\n",
        "LR_val_preds = LR_fit.predict(val_set[input_cols])\n",
        "\n",
        "LR_train_rmse = mean_squared_error(train_set[target_col], LR_train_preds, squared=False)\n",
        "LR_val_rmse = mean_squared_error(val_set[target_col], LR_val_preds, squared=False)\n",
        "\n",
        "print(\"Train Error is \", LR_train_rmse)\n",
        "print(\"Validation Error is \", LR_val_rmse)"
      ],
      "metadata": {
        "id": "R4-TZqUrH6rg",
        "colab": {
          "base_uri": "https://localhost:8080/"
        },
        "outputId": "40da4db6-0a9f-48f2-e6ec-cccad4b5a8d1"
      },
      "execution_count": null,
      "outputs": [
        {
          "output_type": "stream",
          "name": "stdout",
          "text": [
            "Train Error is  0.003336730935924185\n",
            "Validation Error is  0.006181999951287937\n"
          ]
        }
      ]
    },
    {
      "cell_type": "markdown",
      "source": [
        "## Lasso Regression:"
      ],
      "metadata": {
        "id": "GONMFGTwGF2a"
      }
    },
    {
      "cell_type": "code",
      "source": [
        "from sklearn.linear_model import Lasso\n",
        "\n",
        "Lasso = Lasso()\n",
        "\n",
        "Lasso_fit=Lasso.fit(train_set[input_cols], train_set[target_col])\n",
        "\n",
        "Lasso_train_preds = Lasso_fit.predict(train_set[input_cols])\n",
        "Lasso_val_preds = Lasso_fit.predict(val_set[input_cols])\n",
        "\n",
        "Lasso_train_rmse = mean_squared_error(train_set[target_col], Lasso_train_preds, squared=False)\n",
        "Lasso_val_rmse = mean_squared_error(val_set[target_col], Lasso_val_preds, squared=False)\n",
        "\n",
        "print(\"Train Error is \", Lasso_train_rmse)\n",
        "print(\"Validation Error is \", Lasso_val_rmse)"
      ],
      "metadata": {
        "colab": {
          "base_uri": "https://localhost:8080/"
        },
        "id": "EmWWl2mxEEYz",
        "outputId": "a9285424-f4e1-46e0-af24-89d9d6c5fa9a"
      },
      "execution_count": null,
      "outputs": [
        {
          "output_type": "stream",
          "name": "stdout",
          "text": [
            "Train Error is  0.003339356650232293\n",
            "Validation Error is  0.006179373888228899\n"
          ]
        }
      ]
    },
    {
      "cell_type": "markdown",
      "source": [
        "## KNN:"
      ],
      "metadata": {
        "id": "sDt1KHuLHIG4"
      }
    },
    {
      "cell_type": "code",
      "source": [
        "from sklearn.neighbors import KNeighborsRegressor\n",
        "\n",
        "#1h exécution\n",
        "KNN = KNeighborsRegressor()\n",
        "\n",
        "KNN_fit=KNN.fit(train_set[input_cols], train_set[target_col])\n",
        "\n",
        "KNN_train_preds = KNN_fit.predict(train_set[input_cols])\n",
        "KNN_val_preds = KNN_fit.predict(val_set[input_cols])\n",
        "\n",
        "KNN_train_rmse = mean_squared_error(train_set[target_col], KNN_train_preds, squared=False)\n",
        "KNN_val_rmse = mean_squared_error(val_set[target_col], KNN_val_preds, squared=False)\n",
        "\n",
        "print(\"Train Error is \", KNN_train_rmse)\n",
        "print(\"Validation Error is \", KNN_val_rmse)"
      ],
      "metadata": {
        "colab": {
          "base_uri": "https://localhost:8080/"
        },
        "id": "SLaDKiqVHHkW",
        "outputId": "81f94ba4-8a1d-4154-b89f-62df3517698a"
      },
      "execution_count": null,
      "outputs": [
        {
          "output_type": "stream",
          "name": "stdout",
          "text": [
            "Train Error is  0.00268343515395053\n",
            "Validation Error is  0.006642118647828436\n"
          ]
        }
      ]
    },
    {
      "cell_type": "markdown",
      "source": [
        "## Random Forest\n"
      ],
      "metadata": {
        "id": "eCHi_lymNHJt"
      }
    },
    {
      "cell_type": "code",
      "source": [
        "rf1 = RandomForestRegressor(random_state=5, n_jobs = -1)"
      ],
      "metadata": {
        "id": "_8J-MTcPM-Ve"
      },
      "execution_count": null,
      "outputs": []
    },
    {
      "cell_type": "code",
      "source": [
        "rf1_fit= rf1.fit(train_set[input_cols], train_set[target_col])\n",
        "tree_train_preds = rf1.predict(train_set[input_cols])\n",
        "tree_val_preds = rf1.predict(val_set[input_cols])\n",
        "\n",
        "tree_train_rmse = mean_squared_error(train_set[target_col], tree_train_preds, squared=False)\n",
        "tree_val_rmse = mean_squared_error(val_set[target_col], tree_val_preds, squared=False)\n",
        "\n",
        "print(\"Train Error is \", tree_train_rmse)\n",
        "print(\"Validation Error is \", tree_val_rmse)"
      ],
      "metadata": {
        "colab": {
          "base_uri": "https://localhost:8080/"
        },
        "id": "l_JTsWGuDuNw",
        "outputId": "49beb4ab-75ca-49d4-f734-a36cfb8c1f88"
      },
      "execution_count": null,
      "outputs": [
        {
          "output_type": "stream",
          "name": "stdout",
          "text": [
            "Train Error is  0.0010756987696543359\n",
            "Validation Error is  0.0070265793929239475\n"
          ]
        }
      ]
    },
    {
      "cell_type": "code",
      "source": [
        "plt.scatter(train_set[target_col], tree_train_preds,c = 'red')\n",
        "\n",
        "slope, intercept = np.polyfit(train_set[target_col],tree_train_preds,1)\n",
        "\n",
        "trend = np.polyfit(train_set[target_col],tree_train_preds,1)\n",
        "\n",
        "trendpoly = np.poly1d(trend) \n",
        "plt.plot(train_set[target_col],trendpoly(train_set[target_col]))\n",
        "\n",
        "\n",
        "\n",
        "\n",
        "plt.show()"
      ],
      "metadata": {
        "colab": {
          "base_uri": "https://localhost:8080/",
          "height": 269
        },
        "id": "yLBqbSzUtxZE",
        "outputId": "6bcffbf1-9e31-4af3-c824-54115f233f43"
      },
      "execution_count": null,
      "outputs": [
        {
          "output_type": "display_data",
          "data": {
            "text/plain": [
              "<Figure size 432x288 with 1 Axes>"
            ],
            "image/png": "[encoded data removed]"
          },
          "metadata": {
            "needs_background": "light"
          }
        }
      ]
    },
    {
      "cell_type": "markdown",
      "source": [
        "Algorithme pour trouver les hyperparamètres pour Random Forest"
      ],
      "metadata": {
        "id": "BgWkWoIsTwWq"
      }
    },
    {
      "cell_type": "code",
      "source": [
        "def test_params(**params):\n",
        "    model = RandomForestRegressor(random_state=5, n_jobs=-1, **params).fit(train_set[input_cols], train_set[target_col])\n",
        "    train_rmse = mean_squared_error(model.predict(train_set[input_cols]), train_set[target_col], squared=False)\n",
        "    val_rmse = mean_squared_error(model.predict(val_set[input_cols]), val_set[target_col], squared=False)\n",
        "    return train_rmse, val_rmse\n",
        "\n",
        "def test_param_and_plot(param_name, param_values):\n",
        "    train_errors, val_errors = [], [] \n",
        "    for value in param_values:\n",
        "        params = {param_name: value}\n",
        "        train_rmse, val_rmse = test_params(**params)\n",
        "        train_errors.append(train_rmse)\n",
        "        val_errors.append(val_rmse)\n",
        "    plt.figure(figsize=(10,6))\n",
        "    plt.title('Overfitting curve: ' + param_name)\n",
        "    plt.plot(param_values, train_errors, 'b-o')\n",
        "    plt.plot(param_values, val_errors, 'r-o')\n",
        "    plt.xlabel(param_name)\n",
        "    plt.ylabel('RMSE')\n",
        "    plt.legend(['Training', 'Validation'])"
      ],
      "metadata": {
        "id": "3zmqAlSXNJcp"
      },
      "execution_count": null,
      "outputs": []
    },
    {
      "cell_type": "code",
      "source": [
        "# max_depth\n",
        "test_param_and_plot('max_depth', [5, 10, 15, 20, 25])"
      ],
      "metadata": {
        "id": "dvFRRyMdSTpJ",
        "colab": {
          "base_uri": "https://localhost:8080/",
          "height": 416
        },
        "outputId": "e3178b79-6f54-4e5e-8da0-338cab69f43a"
      },
      "execution_count": null,
      "outputs": [
        {
          "output_type": "display_data",
          "data": {
            "text/plain": [
              "<Figure size 720x432 with 1 Axes>"
            ],
            "image/png": "[encoded data removed]"
          },
          "metadata": {
            "needs_background": "light"
          }
        }
      ]
    },
    {
      "cell_type": "markdown",
      "source": [
        "max_depth = 5 semble être le meilleur choix."
      ],
      "metadata": {
        "id": "gvv41yJLf-nR"
      }
    },
    {
      "cell_type": "code",
      "source": [
        "# n_estimators\n",
        "test_param_and_plot('n_estimators', [5, 10, 50])"
      ],
      "metadata": {
        "id": "zE0xYaDLSTsE",
        "colab": {
          "base_uri": "https://localhost:8080/",
          "height": 416
        },
        "outputId": "cd8e6e1d-7f5e-482e-8597-ec1d250eb847"
      },
      "execution_count": null,
      "outputs": [
        {
          "output_type": "display_data",
          "data": {
            "text/plain": [
              "<Figure size 720x432 with 1 Axes>"
            ],
            "image/png": "[encoded data removed]"
          },
          "metadata": {
            "needs_background": "light"
          }
        }
      ]
    },
    {
      "cell_type": "markdown",
      "source": [
        "n_estimator = 10 semble être le meilleur choix."
      ],
      "metadata": {
        "id": "uhX4P8ODgKRG"
      }
    },
    {
      "cell_type": "code",
      "source": [
        "rf = RandomForestRegressor(random_state=5, n_jobs = -1, max_depth=5, n_estimators=10)\n",
        "\n",
        "rf.fit(train_set[input_cols], train_set[target_col])\n",
        "\n",
        "tree_train_preds = rf.predict(train_set[input_cols])\n",
        "tree_val_preds = rf.predict(val_set[input_cols])\n",
        "\n",
        "tree_train_rmse = mean_squared_error(train_set[target_col], tree_train_preds, squared=False)\n",
        "tree_val_rmse = mean_squared_error(val_set[target_col], tree_val_preds, squared=False)\n",
        "\n",
        "print(\"Train Error is \", tree_train_rmse)\n",
        "print(\"Validation Error is \", tree_val_rmse)"
      ],
      "metadata": {
        "colab": {
          "base_uri": "https://localhost:8080/"
        },
        "id": "fvSGkutPSTtd",
        "outputId": "a0c088a2-832e-4e5b-9f5d-51b162fe280b"
      },
      "execution_count": null,
      "outputs": [
        {
          "output_type": "stream",
          "name": "stdout",
          "text": [
            "Train Error is  0.003323058937477169\n",
            "Validation Error is  0.00618923461909251\n"
          ]
        }
      ]
    },
    {
      "cell_type": "markdown",
      "source": [
        "On voit que le MSE de validation est réduit. "
      ],
      "metadata": {
        "id": "Ci_MEJPwUbTz"
      }
    },
    {
      "cell_type": "code",
      "source": [
        "rf_importance_df = pd.DataFrame({\n",
        "    'feature': train_set[input_cols].columns,\n",
        "    'importance': rf.feature_importances_\n",
        "}).sort_values('importance', ascending=False)"
      ],
      "metadata": {
        "id": "vUprkcVLCULp"
      },
      "execution_count": null,
      "outputs": []
    },
    {
      "cell_type": "code",
      "source": [
        "sns.barplot(data=rf_importance_df.head(10), x='importance', y='feature')"
      ],
      "metadata": {
        "colab": {
          "base_uri": "https://localhost:8080/",
          "height": 304
        },
        "id": "1g-MWw8bCWDX",
        "outputId": "0a42ab33-3943-40a6-b4bf-8633b89576f9"
      },
      "execution_count": null,
      "outputs": [
        {
          "output_type": "execute_result",
          "data": {
            "text/plain": [
              "<matplotlib.axes._subplots.AxesSubplot at 0x7fe2ece9f150>"
            ]
          },
          "metadata": {},
          "execution_count": 55
        },
        {
          "output_type": "display_data",
          "data": {
            "text/plain": [
              "<Figure size 432x288 with 1 Axes>"
            ],
            "image/png": "[encoded data removed]"
          },
          "metadata": {
            "needs_background": "light"
          }
        }
      ]
    },
    {
      "cell_type": "markdown",
      "source": [
        "Gradient Boosting :\n"
      ],
      "metadata": {
        "id": "ut_AigY4_6a2"
      }
    },
    {
      "cell_type": "code",
      "source": [
        "GB = XGBRegressor(objective ='reg:squarederror', booster = 'gbtree',random_state=5, n_jobs=-1, n_estimators=20, max_depth=4)\n",
        "\n",
        "GB.fit(train_set[input_cols], train_set[target_col])"
      ],
      "metadata": {
        "colab": {
          "base_uri": "https://localhost:8080/"
        },
        "id": "4Tqd8ms2agGm",
        "outputId": "2180a879-47d7-4bde-8fe8-37e2dbf71a3c"
      },
      "execution_count": null,
      "outputs": [
        {
          "output_type": "execute_result",
          "data": {
            "text/plain": [
              "XGBRegressor(max_depth=4, n_estimators=20, n_jobs=-1,\n",
              "             objective='reg:squarederror', random_state=5)"
            ]
          },
          "metadata": {},
          "execution_count": 34
        }
      ]
    },
    {
      "cell_type": "code",
      "source": [
        "GB_train_preds = GB.predict(train_set[input_cols])\n",
        "GB_val_preds = GB.predict(val_set[input_cols])\n",
        "\n",
        "GB_train_rmse = mean_squared_error(train_set[target_col], GB_train_preds, squared=False)\n",
        "GB_val_rmse = mean_squared_error(val_set[target_col], GB_val_preds, squared=False)\n",
        "\n",
        "print(\"Train Error is \", GB_train_rmse)\n",
        "print(\"Validation Error is \", GB_val_rmse)"
      ],
      "metadata": {
        "colab": {
          "base_uri": "https://localhost:8080/"
        },
        "id": "qUNNmtpfagIr",
        "outputId": "10c9a503-d2c9-4670-f8db-31e3c701b80d"
      },
      "execution_count": null,
      "outputs": [
        {
          "output_type": "stream",
          "name": "stdout",
          "text": [
            "Train Error is  0.06088022309467989\n",
            "Validation Error is  0.06102386172738424\n"
          ]
        }
      ]
    },
    {
      "cell_type": "markdown",
      "source": [
        "Algorithme pour trouver les hyperparamètres pour GB:"
      ],
      "metadata": {
        "id": "SMIUNeafTlcM"
      }
    },
    {
      "cell_type": "code",
      "source": [
        "def test_params(**params):\n",
        "    model = XGBRegressor(random_state=5, n_jobs=-1, **params).fit(train_set[input_cols], train_set[target_col])\n",
        "    train_rmse = mean_squared_error(model.predict(train_set[input_cols]), train_set[target_col], squared=False)\n",
        "    val_rmse = mean_squared_error(model.predict(val_set[input_cols]), val_set[target_col], squared=False)\n",
        "    return train_rmse, val_rmse\n",
        "\n",
        "def test_param_and_plot(param_name, param_values):\n",
        "    train_errors, val_errors = [], [] \n",
        "    for value in param_values:\n",
        "        params = {param_name: value}\n",
        "        train_rmse, val_rmse = test_params(**params)\n",
        "        train_errors.append(train_rmse)\n",
        "        val_errors.append(val_rmse)\n",
        "    plt.figure(figsize=(10,6))\n",
        "    plt.title('Overfitting curve: ' + param_name)\n",
        "    plt.plot(param_values, train_errors, 'b-o')\n",
        "    plt.plot(param_values, val_errors, 'r-o')\n",
        "    plt.xlabel(param_name)\n",
        "    plt.ylabel('RMSE')\n",
        "    plt.legend(['Training', 'Validation'])"
      ],
      "metadata": {
        "id": "igtbcSscQ51B"
      },
      "execution_count": null,
      "outputs": []
    },
    {
      "cell_type": "code",
      "source": [
        "# n_estimators\n",
        "test_param_and_plot('n_estimators', [5, 10, 20, 40,60])"
      ],
      "metadata": {
        "colab": {
          "base_uri": "https://localhost:8080/",
          "height": 501
        },
        "id": "nwak9UG1So-p",
        "outputId": "960203a9-bc9d-4858-a4e3-9484a08097d1"
      },
      "execution_count": null,
      "outputs": [
        {
          "output_type": "stream",
          "name": "stdout",
          "text": [
            "[15:36:42] WARNING: /workspace/src/objective/regression_obj.cu:152: reg:linear is now deprecated in favor of reg:squarederror.\n",
            "[15:36:47] WARNING: /workspace/src/objective/regression_obj.cu:152: reg:linear is now deprecated in favor of reg:squarederror.\n",
            "[15:36:53] WARNING: /workspace/src/objective/regression_obj.cu:152: reg:linear is now deprecated in favor of reg:squarederror.\n",
            "[15:37:00] WARNING: /workspace/src/objective/regression_obj.cu:152: reg:linear is now deprecated in favor of reg:squarederror.\n",
            "[15:37:14] WARNING: /workspace/src/objective/regression_obj.cu:152: reg:linear is now deprecated in favor of reg:squarederror.\n"
          ]
        },
        {
          "output_type": "display_data",
          "data": {
            "text/plain": [
              "<Figure size 720x432 with 1 Axes>"
            ],
            "image/png": "[encoded data removed]"
          },
          "metadata": {
            "needs_background": "light"
          }
        }
      ]
    },
    {
      "cell_type": "markdown",
      "source": [
        "n_estimators of 40 semble d'être le meilleur choix"
      ],
      "metadata": {
        "id": "_50dw8GuUqlx"
      }
    },
    {
      "cell_type": "code",
      "source": [
        "# max_depth\n",
        "test_param_and_plot('max_depth', [5, 7, 9, 10])"
      ],
      "metadata": {
        "colab": {
          "base_uri": "https://localhost:8080/",
          "height": 484
        },
        "id": "yyef4ptBSpDM",
        "outputId": "43e56056-871e-4c92-9dbf-7e6dfdc4e499"
      },
      "execution_count": null,
      "outputs": [
        {
          "output_type": "stream",
          "name": "stdout",
          "text": [
            "[15:38:15] WARNING: /workspace/src/objective/regression_obj.cu:152: reg:linear is now deprecated in favor of reg:squarederror.\n",
            "[15:39:25] WARNING: /workspace/src/objective/regression_obj.cu:152: reg:linear is now deprecated in favor of reg:squarederror.\n",
            "[15:40:55] WARNING: /workspace/src/objective/regression_obj.cu:152: reg:linear is now deprecated in favor of reg:squarederror.\n",
            "[15:42:52] WARNING: /workspace/src/objective/regression_obj.cu:152: reg:linear is now deprecated in favor of reg:squarederror.\n"
          ]
        },
        {
          "output_type": "display_data",
          "data": {
            "text/plain": [
              "<Figure size 720x432 with 1 Axes>"
            ],
            "image/png": "[encoded data removed]"
          },
          "metadata": {
            "needs_background": "light"
          }
        }
      ]
    },
    {
      "cell_type": "markdown",
      "source": [
        "max_depth of 5 semble d'être le meilleur choix."
      ],
      "metadata": {
        "id": "U9e3E2KyWtXG"
      }
    },
    {
      "cell_type": "code",
      "source": [
        "# tuned model\n",
        "GB2 = XGBRegressor(random_state=5, n_jobs=-1, n_estimators=40, max_depth=5)\n",
        "\n",
        "GB2.fit(train_set[input_cols], train_set[target_col])\n",
        "\n",
        "GB_train_preds = GB2.predict(train_set[input_cols])\n",
        "GB_val_preds = GB2.predict(val_set[input_cols])\n",
        "\n",
        "GB_train_rmse = mean_squared_error(train_set[target_col], GB_train_preds, squared=False)\n",
        "GB_val_rmse = mean_squared_error(val_set[target_col], GB_val_preds, squared=False)\n",
        "\n",
        "print(\"Train Error is \", GB_train_rmse)\n",
        "print(\"Validation Error is \", GB_val_rmse)"
      ],
      "metadata": {
        "colab": {
          "base_uri": "https://localhost:8080/"
        },
        "id": "ypP_VnyASpHF",
        "outputId": "40fe244b-bc04-49c1-bf9d-3aae2a2eb447"
      },
      "execution_count": null,
      "outputs": [
        {
          "output_type": "stream",
          "name": "stdout",
          "text": [
            "[15:47:01] WARNING: /workspace/src/objective/regression_obj.cu:152: reg:linear is now deprecated in favor of reg:squarederror.\n",
            "Train Error is  0.008098360797498656\n",
            "Validation Error is  0.009540584193734686\n"
          ]
        }
      ]
    },
    {
      "cell_type": "markdown",
      "source": [
        "On voit que le MSE de validation est réduit."
      ],
      "metadata": {
        "id": "24FmebnaUQR0"
      }
    },
    {
      "cell_type": "code",
      "source": [
        "# define the model Prophet\n",
        "from pandas import to_datetime\n",
        "from pandas import DataFrame\n",
        "train_set['timestamp']= to_datetime(train_set['timestamp'])\n",
        "model = Prophet()\n",
        "# fit the model\n",
        "\n",
        "train_set.input_cols =['ds']\n",
        "#model.fit(train_set[input_cols], train_set[target_col])"
      ],
      "metadata": {
        "id": "e4i9XdCuH6cI"
      },
      "execution_count": null,
      "outputs": []
    },
    {
      "cell_type": "code",
      "source": [
        "train_set\n",
        "train_set2=train_set\n",
        "train_set2=train_set.iloc[:,0:10]\n",
        "train_set2"
      ],
      "metadata": {
        "colab": {
          "base_uri": "https://localhost:8080/",
          "height": 419
        },
        "id": "5XMqOS9QrNK8",
        "outputId": "45d241af-8721-4232-d8b4-c93b8312f3ed"
      },
      "execution_count": null,
      "outputs": [
        {
          "output_type": "execute_result",
          "data": {
            "text/plain": [
              "                   timestamp Asset_ID     Count          Open          High  \\\n",
              "17714600 2020-11-01 00:01:00        3  0.001573  4.548390e-06  4.544355e-06   \n",
              "17714601 2020-11-01 00:01:00        2  0.004247  1.319834e-02  1.319149e-02   \n",
              "17714602 2020-11-01 00:01:00        0  0.003906  1.428487e-03  1.427038e-03   \n",
              "17714603 2020-11-01 00:01:00        1  0.064071  6.921478e-01  6.921018e-01   \n",
              "17714604 2020-11-01 00:01:00        4  0.000236  5.478027e-09  5.499862e-09   \n",
              "...                      ...      ...       ...           ...           ...   \n",
              "18112117 2020-11-20 23:59:00        9  0.006554  4.160254e-03  4.162260e-03   \n",
              "18112118 2020-11-20 23:59:00       10  0.000315  2.601485e-02  2.598458e-02   \n",
              "18112119 2020-11-20 23:59:00       13  0.001599  1.201200e-06  1.201818e-06   \n",
              "18112120 2020-11-20 23:59:00       12  0.002123  4.340444e-06  4.336840e-06   \n",
              "18112121 2020-11-20 23:59:00       11  0.001258  6.097772e-03  6.095515e-03   \n",
              "\n",
              "                   Low         Close        Volume          VWAP    Target  \n",
              "17714600  4.559973e-06  4.545024e-06  1.077568e-03  4.549415e-06  0.001047  \n",
              "17714601  1.323663e-02  1.320068e-02  1.290162e-06  1.320719e-02 -0.002429  \n",
              "17714602  1.432061e-03  1.428404e-03  3.256122e-05  1.428692e-03 -0.005357  \n",
              "17714603  6.942476e-01  6.925960e-01  1.387249e-06  6.928735e-01  0.000794  \n",
              "17714604  5.464924e-09  5.478829e-09  7.628944e-04  5.475302e-09  0.004920  \n",
              "...                ...           ...           ...           ...       ...  \n",
              "18112117  4.172447e-03  4.160705e-03  1.354420e-05  4.163190e-03 -0.002096  \n",
              "18112118  2.610653e-02  2.600724e-02  3.726320e-09  2.602898e-02  0.007395  \n",
              "18112119  1.205522e-06  1.201817e-06  5.734541e-03  1.202430e-06  0.003464  \n",
              "18112120  4.355038e-06  4.340664e-06  2.122497e-03  4.344517e-06  0.002713  \n",
              "18112121  6.118061e-03  6.101857e-03  5.193294e-07  6.105490e-03  0.003635  \n",
              "\n",
              "[389242 rows x 10 columns]"
            ],
            "text/html": [
              "\n",
              "  <div id=\"df-26a88ac2-92a2-4ee0-8976-379d5d7c81bc\">\n",
              "    <div class=\"colab-df-container\">\n",
              "      <div>\n",
              "<style scoped>\n",
              "    .dataframe tbody tr th:only-of-type {\n",
              "        vertical-align: middle;\n",
              "    }\n",
              "\n",
              "    .dataframe tbody tr th {\n",
              "        vertical-align: top;\n",
              "    }\n",
              "\n",
              "    .dataframe thead th {\n",
              "        text-align: right;\n",
              "    }\n",
              "</style>\n",
              "<table border=\"1\" class=\"dataframe\">\n",
              "  <thead>\n",
              "    <tr style=\"text-align: right;\">\n",
              "      <th></th>\n",
              "      <th>timestamp</th>\n",
              "      <th>Asset_ID</th>\n",
              "      <th>Count</th>\n",
              "      <th>Open</th>\n",
              "      <th>High</th>\n",
              "      <th>Low</th>\n",
              "      <th>Close</th>\n",
              "      <th>Volume</th>\n",
              "      <th>VWAP</th>\n",
              "      <th>Target</th>\n",
              "    </tr>\n",
              "  </thead>\n",
              "  <tbody>\n",
              "    <tr>\n",
              "      <th>17714600</th>\n",
              "      <td>2020-11-01 00:01:00</td>\n",
              "      <td>3</td>\n",
              "      <td>0.001573</td>\n",
              "      <td>4.548390e-06</td>\n",
              "      <td>4.544355e-06</td>\n",
              "      <td>4.559973e-06</td>\n",
              "      <td>4.545024e-06</td>\n",
              "      <td>1.077568e-03</td>\n",
              "      <td>4.549415e-06</td>\n",
              "      <td>0.001047</td>\n",
              "    </tr>\n",
              "    <tr>\n",
              "      <th>17714601</th>\n",
              "      <td>2020-11-01 00:01:00</td>\n",
              "      <td>2</td>\n",
              "      <td>0.004247</td>\n",
              "      <td>1.319834e-02</td>\n",
              "      <td>1.319149e-02</td>\n",
              "      <td>1.323663e-02</td>\n",
              "      <td>1.320068e-02</td>\n",
              "      <td>1.290162e-06</td>\n",
              "      <td>1.320719e-02</td>\n",
              "      <td>-0.002429</td>\n",
              "    </tr>\n",
              "    <tr>\n",
              "      <th>17714602</th>\n",
              "      <td>2020-11-01 00:01:00</td>\n",
              "      <td>0</td>\n",
              "      <td>0.003906</td>\n",
              "      <td>1.428487e-03</td>\n",
              "      <td>1.427038e-03</td>\n",
              "      <td>1.432061e-03</td>\n",
              "      <td>1.428404e-03</td>\n",
              "      <td>3.256122e-05</td>\n",
              "      <td>1.428692e-03</td>\n",
              "      <td>-0.005357</td>\n",
              "    </tr>\n",
              "    <tr>\n",
              "      <th>17714603</th>\n",
              "      <td>2020-11-01 00:01:00</td>\n",
              "      <td>1</td>\n",
              "      <td>0.064071</td>\n",
              "      <td>6.921478e-01</td>\n",
              "      <td>6.921018e-01</td>\n",
              "      <td>6.942476e-01</td>\n",
              "      <td>6.925960e-01</td>\n",
              "      <td>1.387249e-06</td>\n",
              "      <td>6.928735e-01</td>\n",
              "      <td>0.000794</td>\n",
              "    </tr>\n",
              "    <tr>\n",
              "      <th>17714604</th>\n",
              "      <td>2020-11-01 00:01:00</td>\n",
              "      <td>4</td>\n",
              "      <td>0.000236</td>\n",
              "      <td>5.478027e-09</td>\n",
              "      <td>5.499862e-09</td>\n",
              "      <td>5.464924e-09</td>\n",
              "      <td>5.478829e-09</td>\n",
              "      <td>7.628944e-04</td>\n",
              "      <td>5.475302e-09</td>\n",
              "      <td>0.004920</td>\n",
              "    </tr>\n",
              "    <tr>\n",
              "      <th>...</th>\n",
              "      <td>...</td>\n",
              "      <td>...</td>\n",
              "      <td>...</td>\n",
              "      <td>...</td>\n",
              "      <td>...</td>\n",
              "      <td>...</td>\n",
              "      <td>...</td>\n",
              "      <td>...</td>\n",
              "      <td>...</td>\n",
              "      <td>...</td>\n",
              "    </tr>\n",
              "    <tr>\n",
              "      <th>18112117</th>\n",
              "      <td>2020-11-20 23:59:00</td>\n",
              "      <td>9</td>\n",
              "      <td>0.006554</td>\n",
              "      <td>4.160254e-03</td>\n",
              "      <td>4.162260e-03</td>\n",
              "      <td>4.172447e-03</td>\n",
              "      <td>4.160705e-03</td>\n",
              "      <td>1.354420e-05</td>\n",
              "      <td>4.163190e-03</td>\n",
              "      <td>-0.002096</td>\n",
              "    </tr>\n",
              "    <tr>\n",
              "      <th>18112118</th>\n",
              "      <td>2020-11-20 23:59:00</td>\n",
              "      <td>10</td>\n",
              "      <td>0.000315</td>\n",
              "      <td>2.601485e-02</td>\n",
              "      <td>2.598458e-02</td>\n",
              "      <td>2.610653e-02</td>\n",
              "      <td>2.600724e-02</td>\n",
              "      <td>3.726320e-09</td>\n",
              "      <td>2.602898e-02</td>\n",
              "      <td>0.007395</td>\n",
              "    </tr>\n",
              "    <tr>\n",
              "      <th>18112119</th>\n",
              "      <td>2020-11-20 23:59:00</td>\n",
              "      <td>13</td>\n",
              "      <td>0.001599</td>\n",
              "      <td>1.201200e-06</td>\n",
              "      <td>1.201818e-06</td>\n",
              "      <td>1.205522e-06</td>\n",
              "      <td>1.201817e-06</td>\n",
              "      <td>5.734541e-03</td>\n",
              "      <td>1.202430e-06</td>\n",
              "      <td>0.003464</td>\n",
              "    </tr>\n",
              "    <tr>\n",
              "      <th>18112120</th>\n",
              "      <td>2020-11-20 23:59:00</td>\n",
              "      <td>12</td>\n",
              "      <td>0.002123</td>\n",
              "      <td>4.340444e-06</td>\n",
              "      <td>4.336840e-06</td>\n",
              "      <td>4.355038e-06</td>\n",
              "      <td>4.340664e-06</td>\n",
              "      <td>2.122497e-03</td>\n",
              "      <td>4.344517e-06</td>\n",
              "      <td>0.002713</td>\n",
              "    </tr>\n",
              "    <tr>\n",
              "      <th>18112121</th>\n",
              "      <td>2020-11-20 23:59:00</td>\n",
              "      <td>11</td>\n",
              "      <td>0.001258</td>\n",
              "      <td>6.097772e-03</td>\n",
              "      <td>6.095515e-03</td>\n",
              "      <td>6.118061e-03</td>\n",
              "      <td>6.101857e-03</td>\n",
              "      <td>5.193294e-07</td>\n",
              "      <td>6.105490e-03</td>\n",
              "      <td>0.003635</td>\n",
              "    </tr>\n",
              "  </tbody>\n",
              "</table>\n",
              "<p>389242 rows × 10 columns</p>\n",
              "</div>\n",
              "      <button class=\"colab-df-convert\" onclick=\"convertToInteractive('df-26a88ac2-92a2-4ee0-8976-379d5d7c81bc')\"\n",
              "              title=\"Convert this dataframe to an interactive table.\"\n",
              "              style=\"display:none;\">\n",
              "        \n",
              "  <svg xmlns=\"http://www.w3.org/2000/svg\" height=\"24px\"viewBox=\"0 0 24 24\"\n",
              "       width=\"24px\">\n",
              "    <path d=\"M0 0h24v24H0V0z\" fill=\"none\"/>\n",
              "    <path d=\"M18.56 5.44l.94 2.06.94-2.06 2.06-.94-2.06-.94-.94-2.06-.94 2.06-2.06.94zm-11 1L8.5 8.5l.94-2.06 2.06-.94-2.06-.94L8.5 2.5l-.94 2.06-2.06.94zm10 10l.94 2.06.94-2.06 2.06-.94-2.06-.94-.94-2.06-.94 2.06-2.06.94z\"/><path d=\"M17.41 7.96l-1.37-1.37c-.4-.4-.92-.59-1.43-.59-.52 0-1.04.2-1.43.59L10.3 9.45l-7.72 7.72c-.78.78-.78 2.05 0 2.83L4 21.41c.39.39.9.59 1.41.59.51 0 1.02-.2 1.41-.59l7.78-7.78 2.81-2.81c.8-.78.8-2.07 0-2.86zM5.41 20L4 18.59l7.72-7.72 1.47 1.35L5.41 20z\"/>\n",
              "  </svg>\n",
              "      </button>\n",
              "      \n",
              "  <style>\n",
              "    .colab-df-container {\n",
              "      display:flex;\n",
              "      flex-wrap:wrap;\n",
              "      gap: 12px;\n",
              "    }\n",
              "\n",
              "    .colab-df-convert {\n",
              "      background-color: #E8F0FE;\n",
              "      border: none;\n",
              "      border-radius: 50%;\n",
              "      cursor: pointer;\n",
              "      display: none;\n",
              "      fill: #1967D2;\n",
              "      height: 32px;\n",
              "      padding: 0 0 0 0;\n",
              "      width: 32px;\n",
              "    }\n",
              "\n",
              "    .colab-df-convert:hover {\n",
              "      background-color: #E2EBFA;\n",
              "      box-shadow: 0px 1px 2px rgba(60, 64, 67, 0.3), 0px 1px 3px 1px rgba(60, 64, 67, 0.15);\n",
              "      fill: #174EA6;\n",
              "    }\n",
              "\n",
              "    [theme=dark] .colab-df-convert {\n",
              "      background-color: #3B4455;\n",
              "      fill: #D2E3FC;\n",
              "    }\n",
              "\n",
              "    [theme=dark] .colab-df-convert:hover {\n",
              "      background-color: #434B5C;\n",
              "      box-shadow: 0px 1px 3px 1px rgba(0, 0, 0, 0.15);\n",
              "      filter: drop-shadow(0px 1px 2px rgba(0, 0, 0, 0.3));\n",
              "      fill: #FFFFFF;\n",
              "    }\n",
              "  </style>\n",
              "\n",
              "      <script>\n",
              "        const buttonEl =\n",
              "          document.querySelector('#df-26a88ac2-92a2-4ee0-8976-379d5d7c81bc button.colab-df-convert');\n",
              "        buttonEl.style.display =\n",
              "          google.colab.kernel.accessAllowed ? 'block' : 'none';\n",
              "\n",
              "        async function convertToInteractive(key) {\n",
              "          const element = document.querySelector('#df-26a88ac2-92a2-4ee0-8976-379d5d7c81bc');\n",
              "          const dataTable =\n",
              "            await google.colab.kernel.invokeFunction('convertToInteractive',\n",
              "                                                     [key], {});\n",
              "          if (!dataTable) return;\n",
              "\n",
              "          const docLinkHtml = 'Like what you see? Visit the ' +\n",
              "            '<a target=\"_blank\" href=https://colab.research.google.com/notebooks/data_table.ipynb>data table notebook</a>'\n",
              "            + ' to learn more about interactive tables.';\n",
              "          element.innerHTML = '';\n",
              "          dataTable['output_type'] = 'display_data';\n",
              "          await google.colab.output.renderOutput(dataTable, element);\n",
              "          const docLink = document.createElement('div');\n",
              "          docLink.innerHTML = docLinkHtml;\n",
              "          element.appendChild(docLink);\n",
              "        }\n",
              "      </script>\n",
              "    </div>\n",
              "  </div>\n",
              "  "
            ]
          },
          "metadata": {},
          "execution_count": 84
        }
      ]
    },
    {
      "cell_type": "code",
      "source": [
        "train_set2=train_set2.set_axis(['ds', 'Asset_ID', 'Count', 'Open', 'High', 'Low', 'Close',\n",
        "       'Volume', 'VWAP', 'y'],axis=1)\n",
        "\n"
      ],
      "metadata": {
        "id": "XzmtRk9cH6eR"
      },
      "execution_count": null,
      "outputs": []
    },
    {
      "cell_type": "code",
      "source": [
        "train_set2['ds']= to_datetime(train_set2['ds'])"
      ],
      "metadata": {
        "id": "4-ByF1fMH6gq"
      },
      "execution_count": null,
      "outputs": []
    },
    {
      "cell_type": "code",
      "source": [
        "model = Prophet(yearly_seasonality=True)\n",
        "# fit the model\n",
        "Prop_fit=model.fit(train_set2)"
      ],
      "metadata": {
        "id": "FWYiKVcPH6nk"
      },
      "execution_count": null,
      "outputs": []
    },
    {
      "cell_type": "code",
      "source": [
        "forecast = Prop_fit.predict(train_set2)"
      ],
      "metadata": {
        "id": "dvSoxkJru6dy"
      },
      "execution_count": null,
      "outputs": []
    },
    {
      "cell_type": "code",
      "source": [
        "# Model Evaluation\n",
        "Prop_train_preds = Prop_fit.predict(train_set['ds'])\n",
        "Prop_val_preds = Prop_fit.predict(val_set['ds'])\n",
        "\n",
        "Prop_train_rmse = mean_squared_error(train_set['ds'], Prop_train_preds, squared=False)\n",
        "Prop_val_rmse = mean_squared_error(val_set['ds'], Prop_val_preds, squared=False)\n",
        "\n",
        "print(\"Train Error is \", Prop_train_rmse)\n",
        "print(\"Validation Error is \", Prop_val_rmse)"
      ],
      "metadata": {
        "id": "rmKfN5XEH6pX"
      },
      "execution_count": null,
      "outputs": []
    },
    {
      "cell_type": "code",
      "source": [
        ""
      ],
      "metadata": {
        "id": "Z3Yt622PEEeB"
      },
      "execution_count": null,
      "outputs": []
    },
    {
      "cell_type": "code",
      "source": [
        ""
      ],
      "metadata": {
        "id": "zbyUUDtKH6tb"
      },
      "execution_count": null,
      "outputs": []
    },
    {
      "cell_type": "code",
      "source": [
        ""
      ],
      "metadata": {
        "id": "HP7IqB_6gd3f"
      },
      "execution_count": null,
      "outputs": []
    },
    {
      "cell_type": "code",
      "source": [
        ""
      ],
      "metadata": {
        "id": "dXw2HN1BgiuY"
      },
      "execution_count": null,
      "outputs": []
    }
  ]
}